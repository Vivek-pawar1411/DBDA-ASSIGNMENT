{
  "cells": [
    {
      "cell_type": "code",
      "execution_count": null,
      "metadata": {
        "id": "FTuzhOT4mEFq"
      },
      "outputs": [],
      "source": [
        "import pandas as pd"
      ]
    },
    {
      "cell_type": "code",
      "execution_count": null,
      "metadata": {
        "id": "Tx8fRFKbuQrW"
      },
      "outputs": [],
      "source": [
        "df=pd.read_csv(\"/content/drive/MyDrive/ML Data/devnagari_db_csv.zip\")"
      ]
    },
    {
      "cell_type": "code",
      "execution_count": null,
      "metadata": {
        "colab": {
          "base_uri": "https://localhost:8080/"
        },
        "id": "yXkkmdw2mIK7",
        "outputId": "52765528-957f-4855-871e-fd68b9586340"
      },
      "outputs": [
        {
          "data": {
            "text/plain": [
              "(92000, 1025)"
            ]
          },
          "execution_count": 101,
          "metadata": {},
          "output_type": "execute_result"
        }
      ],
      "source": [
        "df.shape"
      ]
    },
    {
      "cell_type": "code",
      "execution_count": null,
      "metadata": {
        "colab": {
          "base_uri": "https://localhost:8080/"
        },
        "id": "Nj8324AtmWtc",
        "outputId": "446c7e10-12a0-4cae-90dc-b05d2eeb33f7"
      },
      "outputs": [
        {
          "data": {
            "text/plain": [
              "Index(['pixel_0000', 'pixel_0001', 'pixel_0002', 'pixel_0003', 'pixel_0004',\n",
              "       'pixel_0005', 'pixel_0006', 'pixel_0007', 'pixel_0008', 'pixel_0009',\n",
              "       ...\n",
              "       'pixel_1015', 'pixel_1016', 'pixel_1017', 'pixel_1018', 'pixel_1019',\n",
              "       'pixel_1020', 'pixel_1021', 'pixel_1022', 'pixel_1023', 'character'],\n",
              "      dtype='object', length=1025)"
            ]
          },
          "execution_count": 102,
          "metadata": {},
          "output_type": "execute_result"
        }
      ],
      "source": [
        "df.columns"
      ]
    },
    {
      "cell_type": "code",
      "execution_count": null,
      "metadata": {
        "id": "kPXrxxa3mbNH"
      },
      "outputs": [],
      "source": [
        "selected_chars = ['character_04_gha', 'character_14_dhaa',\n",
        "                  'character_24_bha','character_25_ma',\n",
        "                  'character_21_pa','character_22_pha']"
      ]
    },
    {
      "cell_type": "code",
      "execution_count": null,
      "metadata": {
        "id": "CQQd12o_md5n"
      },
      "outputs": [],
      "source": [
        "df_s = df.loc[df['character'].isin(selected_chars), :]\n"
      ]
    },
    {
      "cell_type": "code",
      "execution_count": null,
      "metadata": {
        "colab": {
          "base_uri": "https://localhost:8080/"
        },
        "id": "ch7A-p0Kmjoe",
        "outputId": "ca652acd-69d1-41f8-d187-66c7c2516025"
      },
      "outputs": [
        {
          "data": {
            "text/plain": [
              "(12000, 1025)"
            ]
          },
          "execution_count": 105,
          "metadata": {},
          "output_type": "execute_result"
        }
      ],
      "source": [
        "df_s.shape"
      ]
    },
    {
      "cell_type": "code",
      "execution_count": null,
      "metadata": {
        "id": "pbfdVEYrmlL-"
      },
      "outputs": [],
      "source": [
        "X = df_s.drop('character',axis=1)\n",
        "y = df_s.loc[:,'character']"
      ]
    },
    {
      "cell_type": "code",
      "execution_count": null,
      "metadata": {
        "colab": {
          "base_uri": "https://localhost:8080/"
        },
        "id": "S9kmUxESm65b",
        "outputId": "237077bb-4ef4-487c-ff01-1e08fe1d1dba"
      },
      "outputs": [
        {
          "data": {
            "text/plain": [
              "array(['character_04_gha', 'character_14_dhaa', 'character_21_pa',\n",
              "       'character_22_pha', 'character_24_bha', 'character_25_ma'],\n",
              "      dtype=object)"
            ]
          },
          "execution_count": 107,
          "metadata": {},
          "output_type": "execute_result"
        }
      ],
      "source": [
        "y.unique()"
      ]
    },
    {
      "cell_type": "code",
      "execution_count": null,
      "metadata": {
        "colab": {
          "base_uri": "https://localhost:8080/"
        },
        "id": "OME2YoeLm9s4",
        "outputId": "2579ff07-ebe3-4cd0-f810-dcceeb28fae2"
      },
      "outputs": [
        {
          "data": {
            "text/plain": [
              "character_04_gha     2000\n",
              "character_14_dhaa    2000\n",
              "character_21_pa      2000\n",
              "character_22_pha     2000\n",
              "character_24_bha     2000\n",
              "character_25_ma      2000\n",
              "Name: character, dtype: int64"
            ]
          },
          "execution_count": 108,
          "metadata": {},
          "output_type": "execute_result"
        }
      ],
      "source": [
        "y.value_counts()"
      ]
    },
    {
      "cell_type": "code",
      "execution_count": null,
      "metadata": {
        "id": "D0ymBgbXrW5b"
      },
      "outputs": [],
      "source": [
        "label_map={'character_04_gha':0, 'character_14_dhaa':1,\n",
        "                  'character_24_bha':2,'character_25_ma':3,\n",
        "                  'character_21_pa':4,'character_22_pha':5\n",
        "\n",
        "}"
      ]
    },
    {
      "cell_type": "code",
      "execution_count": null,
      "metadata": {
        "colab": {
          "base_uri": "https://localhost:8080/"
        },
        "id": "eF8GZz-cr2dy",
        "outputId": "5a4d54a6-e5d5-4a28-be1d-5c4dcfd218fd"
      },
      "outputs": [
        {
          "name": "stderr",
          "output_type": "stream",
          "text": [
            "<ipython-input-110-dfe04e5f1658>:1: SettingWithCopyWarning: \n",
            "A value is trying to be set on a copy of a slice from a DataFrame\n",
            "\n",
            "See the caveats in the documentation: https://pandas.pydata.org/pandas-docs/stable/user_guide/indexing.html#returning-a-view-versus-a-copy\n",
            "  y.replace(label_map,inplace=True)\n"
          ]
        }
      ],
      "source": [
        "y.replace(label_map,inplace=True)"
      ]
    },
    {
      "cell_type": "code",
      "execution_count": null,
      "metadata": {
        "colab": {
          "base_uri": "https://localhost:8080/"
        },
        "id": "6eooTDuEsCIi",
        "outputId": "f7e03591-4df3-4c65-a3b7-b7f1918cb84b"
      },
      "outputs": [
        {
          "data": {
            "text/plain": [
              "array([0, 1, 4, 5, 2, 3])"
            ]
          },
          "execution_count": 111,
          "metadata": {},
          "output_type": "execute_result"
        }
      ],
      "source": [
        "y.unique()"
      ]
    },
    {
      "cell_type": "code",
      "execution_count": null,
      "metadata": {
        "id": "Pu8lf1YKsCep"
      },
      "outputs": [],
      "source": [
        "y=y.astype('int')"
      ]
    },
    {
      "cell_type": "code",
      "execution_count": null,
      "metadata": {
        "id": "defJJvBInAa8"
      },
      "outputs": [],
      "source": [
        "from sklearn.model_selection import train_test_split"
      ]
    },
    {
      "cell_type": "code",
      "execution_count": null,
      "metadata": {
        "id": "f_0EF3OtnE_F"
      },
      "outputs": [],
      "source": [
        "X_train,X_test,y_train,y_test = train_test_split(X,y,\n",
        "                                                 test_size=0.3,\n",
        "                                                 random_state=7,\n",
        "                                                 stratify=y)"
      ]
    },
    {
      "cell_type": "code",
      "execution_count": null,
      "metadata": {
        "colab": {
          "base_uri": "https://localhost:8080/"
        },
        "id": "EMM3fiUdnH6U",
        "outputId": "703010eb-9ec1-480e-ea87-4b58c37ac2c6"
      },
      "outputs": [
        {
          "data": {
            "text/plain": [
              "((8400, 1024), (3600, 1024), (8400,), (3600,))"
            ]
          },
          "execution_count": 115,
          "metadata": {},
          "output_type": "execute_result"
        }
      ],
      "source": [
        "X_train.shape,X_test.shape,y_train.shape,y_test.shape"
      ]
    },
    {
      "cell_type": "markdown",
      "metadata": {
        "id": "O6RtvVi1nRUA"
      },
      "source": [
        "logistics regressino"
      ]
    },
    {
      "cell_type": "code",
      "execution_count": null,
      "metadata": {
        "id": "FeWeyhknnLAy"
      },
      "outputs": [],
      "source": [
        "from sklearn.linear_model import LogisticRegression"
      ]
    },
    {
      "cell_type": "code",
      "execution_count": null,
      "metadata": {
        "id": "HBg5wVWjnWXh"
      },
      "outputs": [],
      "source": [
        "lr = LogisticRegression(solver=\"saga\",random_state=7)"
      ]
    },
    {
      "cell_type": "code",
      "execution_count": null,
      "metadata": {
        "colab": {
          "base_uri": "https://localhost:8080/",
          "height": 129
        },
        "id": "eb5bRpVznZFf",
        "outputId": "dc68443e-d984-41cd-db2c-21c223d4995d"
      },
      "outputs": [
        {
          "name": "stderr",
          "output_type": "stream",
          "text": [
            "/usr/local/lib/python3.10/dist-packages/sklearn/linear_model/_sag.py:350: ConvergenceWarning: The max_iter was reached which means the coef_ did not converge\n",
            "  warnings.warn(\n"
          ]
        },
        {
          "data": {
            "text/html": [
              "<style>#sk-container-id-10 {color: black;background-color: white;}#sk-container-id-10 pre{padding: 0;}#sk-container-id-10 div.sk-toggleable {background-color: white;}#sk-container-id-10 label.sk-toggleable__label {cursor: pointer;display: block;width: 100%;margin-bottom: 0;padding: 0.3em;box-sizing: border-box;text-align: center;}#sk-container-id-10 label.sk-toggleable__label-arrow:before {content: \"▸\";float: left;margin-right: 0.25em;color: #696969;}#sk-container-id-10 label.sk-toggleable__label-arrow:hover:before {color: black;}#sk-container-id-10 div.sk-estimator:hover label.sk-toggleable__label-arrow:before {color: black;}#sk-container-id-10 div.sk-toggleable__content {max-height: 0;max-width: 0;overflow: hidden;text-align: left;background-color: #f0f8ff;}#sk-container-id-10 div.sk-toggleable__content pre {margin: 0.2em;color: black;border-radius: 0.25em;background-color: #f0f8ff;}#sk-container-id-10 input.sk-toggleable__control:checked~div.sk-toggleable__content {max-height: 200px;max-width: 100%;overflow: auto;}#sk-container-id-10 input.sk-toggleable__control:checked~label.sk-toggleable__label-arrow:before {content: \"▾\";}#sk-container-id-10 div.sk-estimator input.sk-toggleable__control:checked~label.sk-toggleable__label {background-color: #d4ebff;}#sk-container-id-10 div.sk-label input.sk-toggleable__control:checked~label.sk-toggleable__label {background-color: #d4ebff;}#sk-container-id-10 input.sk-hidden--visually {border: 0;clip: rect(1px 1px 1px 1px);clip: rect(1px, 1px, 1px, 1px);height: 1px;margin: -1px;overflow: hidden;padding: 0;position: absolute;width: 1px;}#sk-container-id-10 div.sk-estimator {font-family: monospace;background-color: #f0f8ff;border: 1px dotted black;border-radius: 0.25em;box-sizing: border-box;margin-bottom: 0.5em;}#sk-container-id-10 div.sk-estimator:hover {background-color: #d4ebff;}#sk-container-id-10 div.sk-parallel-item::after {content: \"\";width: 100%;border-bottom: 1px solid gray;flex-grow: 1;}#sk-container-id-10 div.sk-label:hover label.sk-toggleable__label {background-color: #d4ebff;}#sk-container-id-10 div.sk-serial::before {content: \"\";position: absolute;border-left: 1px solid gray;box-sizing: border-box;top: 0;bottom: 0;left: 50%;z-index: 0;}#sk-container-id-10 div.sk-serial {display: flex;flex-direction: column;align-items: center;background-color: white;padding-right: 0.2em;padding-left: 0.2em;position: relative;}#sk-container-id-10 div.sk-item {position: relative;z-index: 1;}#sk-container-id-10 div.sk-parallel {display: flex;align-items: stretch;justify-content: center;background-color: white;position: relative;}#sk-container-id-10 div.sk-item::before, #sk-container-id-10 div.sk-parallel-item::before {content: \"\";position: absolute;border-left: 1px solid gray;box-sizing: border-box;top: 0;bottom: 0;left: 50%;z-index: -1;}#sk-container-id-10 div.sk-parallel-item {display: flex;flex-direction: column;z-index: 1;position: relative;background-color: white;}#sk-container-id-10 div.sk-parallel-item:first-child::after {align-self: flex-end;width: 50%;}#sk-container-id-10 div.sk-parallel-item:last-child::after {align-self: flex-start;width: 50%;}#sk-container-id-10 div.sk-parallel-item:only-child::after {width: 0;}#sk-container-id-10 div.sk-dashed-wrapped {border: 1px dashed gray;margin: 0 0.4em 0.5em 0.4em;box-sizing: border-box;padding-bottom: 0.4em;background-color: white;}#sk-container-id-10 div.sk-label label {font-family: monospace;font-weight: bold;display: inline-block;line-height: 1.2em;}#sk-container-id-10 div.sk-label-container {text-align: center;}#sk-container-id-10 div.sk-container {/* jupyter's `normalize.less` sets `[hidden] { display: none; }` but bootstrap.min.css set `[hidden] { display: none !important; }` so we also need the `!important` here to be able to override the default hidden behavior on the sphinx rendered scikit-learn.org. See: https://github.com/scikit-learn/scikit-learn/issues/21755 */display: inline-block !important;position: relative;}#sk-container-id-10 div.sk-text-repr-fallback {display: none;}</style><div id=\"sk-container-id-10\" class=\"sk-top-container\"><div class=\"sk-text-repr-fallback\"><pre>LogisticRegression(random_state=7, solver=&#x27;saga&#x27;)</pre><b>In a Jupyter environment, please rerun this cell to show the HTML representation or trust the notebook. <br />On GitHub, the HTML representation is unable to render, please try loading this page with nbviewer.org.</b></div><div class=\"sk-container\" hidden><div class=\"sk-item\"><div class=\"sk-estimator sk-toggleable\"><input class=\"sk-toggleable__control sk-hidden--visually\" id=\"sk-estimator-id-10\" type=\"checkbox\" checked><label for=\"sk-estimator-id-10\" class=\"sk-toggleable__label sk-toggleable__label-arrow\">LogisticRegression</label><div class=\"sk-toggleable__content\"><pre>LogisticRegression(random_state=7, solver=&#x27;saga&#x27;)</pre></div></div></div></div></div>"
            ],
            "text/plain": [
              "LogisticRegression(random_state=7, solver='saga')"
            ]
          },
          "execution_count": 118,
          "metadata": {},
          "output_type": "execute_result"
        }
      ],
      "source": [
        "lr.fit(X_train,y_train)"
      ]
    },
    {
      "cell_type": "code",
      "execution_count": null,
      "metadata": {
        "id": "XS-vAhpOnbnZ"
      },
      "outputs": [],
      "source": [
        "from sklearn.metrics import precision_score, recall_score, f1_score\n",
        "from sklearn.metrics import precision_recall_fscore_support\n",
        "from sklearn.metrics import classification_report"
      ]
    },
    {
      "cell_type": "code",
      "execution_count": null,
      "metadata": {
        "id": "jFUL1Cn1n51C"
      },
      "outputs": [],
      "source": [
        "y_pred = lr.predict(X_test)"
      ]
    },
    {
      "cell_type": "code",
      "execution_count": null,
      "metadata": {
        "colab": {
          "base_uri": "https://localhost:8080/"
        },
        "id": "IGO3DSR2npua",
        "outputId": "6d72211b-02e2-405a-8cd1-b11dc37d33fc"
      },
      "outputs": [
        {
          "name": "stdout",
          "output_type": "stream",
          "text": [
            "              precision    recall  f1-score   support\n",
            "\n",
            "           0       0.83      0.83      0.83       600\n",
            "           1       0.97      0.97      0.97       600\n",
            "           2       0.86      0.88      0.87       600\n",
            "           3       0.87      0.87      0.87       600\n",
            "           4       0.81      0.81      0.81       600\n",
            "           5       0.91      0.90      0.90       600\n",
            "\n",
            "    accuracy                           0.88      3600\n",
            "   macro avg       0.88      0.88      0.88      3600\n",
            "weighted avg       0.88      0.88      0.88      3600\n",
            "\n"
          ]
        }
      ],
      "source": [
        "print(classification_report(y_test,y_pred ))"
      ]
    },
    {
      "cell_type": "markdown",
      "metadata": {
        "id": "mDD2V-hYn9Nq"
      },
      "source": [
        "random forest"
      ]
    },
    {
      "cell_type": "code",
      "execution_count": null,
      "metadata": {
        "id": "sbSP3ArAny3V"
      },
      "outputs": [],
      "source": [
        "from sklearn.ensemble import RandomForestClassifier"
      ]
    },
    {
      "cell_type": "code",
      "execution_count": null,
      "metadata": {
        "id": "PcuIlNBSoC3j"
      },
      "outputs": [],
      "source": [
        "rf = RandomForestClassifier(max_samples = 0.8, oob_score = True,\n",
        "                       random_state=7)"
      ]
    },
    {
      "cell_type": "code",
      "execution_count": null,
      "metadata": {
        "colab": {
          "base_uri": "https://localhost:8080/",
          "height": 74
        },
        "id": "rdSZnP1QoFO0",
        "outputId": "6cc2b3af-107d-4e78-fe59-bd0af6d5713c"
      },
      "outputs": [
        {
          "data": {
            "text/html": [
              "<style>#sk-container-id-11 {color: black;background-color: white;}#sk-container-id-11 pre{padding: 0;}#sk-container-id-11 div.sk-toggleable {background-color: white;}#sk-container-id-11 label.sk-toggleable__label {cursor: pointer;display: block;width: 100%;margin-bottom: 0;padding: 0.3em;box-sizing: border-box;text-align: center;}#sk-container-id-11 label.sk-toggleable__label-arrow:before {content: \"▸\";float: left;margin-right: 0.25em;color: #696969;}#sk-container-id-11 label.sk-toggleable__label-arrow:hover:before {color: black;}#sk-container-id-11 div.sk-estimator:hover label.sk-toggleable__label-arrow:before {color: black;}#sk-container-id-11 div.sk-toggleable__content {max-height: 0;max-width: 0;overflow: hidden;text-align: left;background-color: #f0f8ff;}#sk-container-id-11 div.sk-toggleable__content pre {margin: 0.2em;color: black;border-radius: 0.25em;background-color: #f0f8ff;}#sk-container-id-11 input.sk-toggleable__control:checked~div.sk-toggleable__content {max-height: 200px;max-width: 100%;overflow: auto;}#sk-container-id-11 input.sk-toggleable__control:checked~label.sk-toggleable__label-arrow:before {content: \"▾\";}#sk-container-id-11 div.sk-estimator input.sk-toggleable__control:checked~label.sk-toggleable__label {background-color: #d4ebff;}#sk-container-id-11 div.sk-label input.sk-toggleable__control:checked~label.sk-toggleable__label {background-color: #d4ebff;}#sk-container-id-11 input.sk-hidden--visually {border: 0;clip: rect(1px 1px 1px 1px);clip: rect(1px, 1px, 1px, 1px);height: 1px;margin: -1px;overflow: hidden;padding: 0;position: absolute;width: 1px;}#sk-container-id-11 div.sk-estimator {font-family: monospace;background-color: #f0f8ff;border: 1px dotted black;border-radius: 0.25em;box-sizing: border-box;margin-bottom: 0.5em;}#sk-container-id-11 div.sk-estimator:hover {background-color: #d4ebff;}#sk-container-id-11 div.sk-parallel-item::after {content: \"\";width: 100%;border-bottom: 1px solid gray;flex-grow: 1;}#sk-container-id-11 div.sk-label:hover label.sk-toggleable__label {background-color: #d4ebff;}#sk-container-id-11 div.sk-serial::before {content: \"\";position: absolute;border-left: 1px solid gray;box-sizing: border-box;top: 0;bottom: 0;left: 50%;z-index: 0;}#sk-container-id-11 div.sk-serial {display: flex;flex-direction: column;align-items: center;background-color: white;padding-right: 0.2em;padding-left: 0.2em;position: relative;}#sk-container-id-11 div.sk-item {position: relative;z-index: 1;}#sk-container-id-11 div.sk-parallel {display: flex;align-items: stretch;justify-content: center;background-color: white;position: relative;}#sk-container-id-11 div.sk-item::before, #sk-container-id-11 div.sk-parallel-item::before {content: \"\";position: absolute;border-left: 1px solid gray;box-sizing: border-box;top: 0;bottom: 0;left: 50%;z-index: -1;}#sk-container-id-11 div.sk-parallel-item {display: flex;flex-direction: column;z-index: 1;position: relative;background-color: white;}#sk-container-id-11 div.sk-parallel-item:first-child::after {align-self: flex-end;width: 50%;}#sk-container-id-11 div.sk-parallel-item:last-child::after {align-self: flex-start;width: 50%;}#sk-container-id-11 div.sk-parallel-item:only-child::after {width: 0;}#sk-container-id-11 div.sk-dashed-wrapped {border: 1px dashed gray;margin: 0 0.4em 0.5em 0.4em;box-sizing: border-box;padding-bottom: 0.4em;background-color: white;}#sk-container-id-11 div.sk-label label {font-family: monospace;font-weight: bold;display: inline-block;line-height: 1.2em;}#sk-container-id-11 div.sk-label-container {text-align: center;}#sk-container-id-11 div.sk-container {/* jupyter's `normalize.less` sets `[hidden] { display: none; }` but bootstrap.min.css set `[hidden] { display: none !important; }` so we also need the `!important` here to be able to override the default hidden behavior on the sphinx rendered scikit-learn.org. See: https://github.com/scikit-learn/scikit-learn/issues/21755 */display: inline-block !important;position: relative;}#sk-container-id-11 div.sk-text-repr-fallback {display: none;}</style><div id=\"sk-container-id-11\" class=\"sk-top-container\"><div class=\"sk-text-repr-fallback\"><pre>RandomForestClassifier(max_samples=0.8, oob_score=True, random_state=7)</pre><b>In a Jupyter environment, please rerun this cell to show the HTML representation or trust the notebook. <br />On GitHub, the HTML representation is unable to render, please try loading this page with nbviewer.org.</b></div><div class=\"sk-container\" hidden><div class=\"sk-item\"><div class=\"sk-estimator sk-toggleable\"><input class=\"sk-toggleable__control sk-hidden--visually\" id=\"sk-estimator-id-11\" type=\"checkbox\" checked><label for=\"sk-estimator-id-11\" class=\"sk-toggleable__label sk-toggleable__label-arrow\">RandomForestClassifier</label><div class=\"sk-toggleable__content\"><pre>RandomForestClassifier(max_samples=0.8, oob_score=True, random_state=7)</pre></div></div></div></div></div>"
            ],
            "text/plain": [
              "RandomForestClassifier(max_samples=0.8, oob_score=True, random_state=7)"
            ]
          },
          "execution_count": 125,
          "metadata": {},
          "output_type": "execute_result"
        }
      ],
      "source": [
        "\n",
        "rf.fit(X_train,y_train)"
      ]
    },
    {
      "cell_type": "code",
      "execution_count": null,
      "metadata": {
        "id": "FK79VciZo7gV"
      },
      "outputs": [],
      "source": [
        "y_pred = rf.predict(X_test)"
      ]
    },
    {
      "cell_type": "code",
      "execution_count": null,
      "metadata": {
        "colab": {
          "base_uri": "https://localhost:8080/"
        },
        "id": "VSmdBJIGoPet",
        "outputId": "7656141a-2579-4abe-bd2e-0b04ee0ad1d3"
      },
      "outputs": [
        {
          "name": "stdout",
          "output_type": "stream",
          "text": [
            "              precision    recall  f1-score   support\n",
            "\n",
            "           0       0.96      0.93      0.94       600\n",
            "           1       0.99      0.99      0.99       600\n",
            "           2       0.95      0.93      0.94       600\n",
            "           3       0.92      0.93      0.93       600\n",
            "           4       0.92      0.95      0.93       600\n",
            "           5       0.97      0.97      0.97       600\n",
            "\n",
            "    accuracy                           0.95      3600\n",
            "   macro avg       0.95      0.95      0.95      3600\n",
            "weighted avg       0.95      0.95      0.95      3600\n",
            "\n"
          ]
        }
      ],
      "source": [
        "print(classification_report(y_test,y_pred ))"
      ]
    },
    {
      "cell_type": "code",
      "execution_count": null,
      "metadata": {
        "colab": {
          "base_uri": "https://localhost:8080/"
        },
        "id": "G04Czq70oS0X",
        "outputId": "a678c473-499a-41e7-da5b-549a157b37c9"
      },
      "outputs": [
        {
          "data": {
            "text/plain": [
              "0.9486111111111111"
            ]
          },
          "execution_count": 128,
          "metadata": {},
          "output_type": "execute_result"
        }
      ],
      "source": [
        "f1_score(y_test,y_pred, average=\"micro\")"
      ]
    },
    {
      "cell_type": "markdown",
      "metadata": {
        "id": "pEj1i0R-sQ9N"
      },
      "source": [
        "XG boost"
      ]
    },
    {
      "cell_type": "code",
      "execution_count": null,
      "metadata": {
        "id": "b-JU5KkfppFw"
      },
      "outputs": [],
      "source": [
        "import xgboost as yg"
      ]
    },
    {
      "cell_type": "code",
      "execution_count": null,
      "metadata": {
        "id": "6nESbr95sVXo"
      },
      "outputs": [],
      "source": [
        "xgc=yg.XGBClassifier(random_state=7)"
      ]
    },
    {
      "cell_type": "code",
      "execution_count": null,
      "metadata": {
        "colab": {
          "base_uri": "https://localhost:8080/",
          "height": 248
        },
        "id": "_LgwrBpYsff5",
        "outputId": "ed4f9d4a-cb12-4354-904b-f0e1432b7d0c"
      },
      "outputs": [
        {
          "data": {
            "text/html": [
              "<style>#sk-container-id-13 {color: black;background-color: white;}#sk-container-id-13 pre{padding: 0;}#sk-container-id-13 div.sk-toggleable {background-color: white;}#sk-container-id-13 label.sk-toggleable__label {cursor: pointer;display: block;width: 100%;margin-bottom: 0;padding: 0.3em;box-sizing: border-box;text-align: center;}#sk-container-id-13 label.sk-toggleable__label-arrow:before {content: \"▸\";float: left;margin-right: 0.25em;color: #696969;}#sk-container-id-13 label.sk-toggleable__label-arrow:hover:before {color: black;}#sk-container-id-13 div.sk-estimator:hover label.sk-toggleable__label-arrow:before {color: black;}#sk-container-id-13 div.sk-toggleable__content {max-height: 0;max-width: 0;overflow: hidden;text-align: left;background-color: #f0f8ff;}#sk-container-id-13 div.sk-toggleable__content pre {margin: 0.2em;color: black;border-radius: 0.25em;background-color: #f0f8ff;}#sk-container-id-13 input.sk-toggleable__control:checked~div.sk-toggleable__content {max-height: 200px;max-width: 100%;overflow: auto;}#sk-container-id-13 input.sk-toggleable__control:checked~label.sk-toggleable__label-arrow:before {content: \"▾\";}#sk-container-id-13 div.sk-estimator input.sk-toggleable__control:checked~label.sk-toggleable__label {background-color: #d4ebff;}#sk-container-id-13 div.sk-label input.sk-toggleable__control:checked~label.sk-toggleable__label {background-color: #d4ebff;}#sk-container-id-13 input.sk-hidden--visually {border: 0;clip: rect(1px 1px 1px 1px);clip: rect(1px, 1px, 1px, 1px);height: 1px;margin: -1px;overflow: hidden;padding: 0;position: absolute;width: 1px;}#sk-container-id-13 div.sk-estimator {font-family: monospace;background-color: #f0f8ff;border: 1px dotted black;border-radius: 0.25em;box-sizing: border-box;margin-bottom: 0.5em;}#sk-container-id-13 div.sk-estimator:hover {background-color: #d4ebff;}#sk-container-id-13 div.sk-parallel-item::after {content: \"\";width: 100%;border-bottom: 1px solid gray;flex-grow: 1;}#sk-container-id-13 div.sk-label:hover label.sk-toggleable__label {background-color: #d4ebff;}#sk-container-id-13 div.sk-serial::before {content: \"\";position: absolute;border-left: 1px solid gray;box-sizing: border-box;top: 0;bottom: 0;left: 50%;z-index: 0;}#sk-container-id-13 div.sk-serial {display: flex;flex-direction: column;align-items: center;background-color: white;padding-right: 0.2em;padding-left: 0.2em;position: relative;}#sk-container-id-13 div.sk-item {position: relative;z-index: 1;}#sk-container-id-13 div.sk-parallel {display: flex;align-items: stretch;justify-content: center;background-color: white;position: relative;}#sk-container-id-13 div.sk-item::before, #sk-container-id-13 div.sk-parallel-item::before {content: \"\";position: absolute;border-left: 1px solid gray;box-sizing: border-box;top: 0;bottom: 0;left: 50%;z-index: -1;}#sk-container-id-13 div.sk-parallel-item {display: flex;flex-direction: column;z-index: 1;position: relative;background-color: white;}#sk-container-id-13 div.sk-parallel-item:first-child::after {align-self: flex-end;width: 50%;}#sk-container-id-13 div.sk-parallel-item:last-child::after {align-self: flex-start;width: 50%;}#sk-container-id-13 div.sk-parallel-item:only-child::after {width: 0;}#sk-container-id-13 div.sk-dashed-wrapped {border: 1px dashed gray;margin: 0 0.4em 0.5em 0.4em;box-sizing: border-box;padding-bottom: 0.4em;background-color: white;}#sk-container-id-13 div.sk-label label {font-family: monospace;font-weight: bold;display: inline-block;line-height: 1.2em;}#sk-container-id-13 div.sk-label-container {text-align: center;}#sk-container-id-13 div.sk-container {/* jupyter's `normalize.less` sets `[hidden] { display: none; }` but bootstrap.min.css set `[hidden] { display: none !important; }` so we also need the `!important` here to be able to override the default hidden behavior on the sphinx rendered scikit-learn.org. See: https://github.com/scikit-learn/scikit-learn/issues/21755 */display: inline-block !important;position: relative;}#sk-container-id-13 div.sk-text-repr-fallback {display: none;}</style><div id=\"sk-container-id-13\" class=\"sk-top-container\"><div class=\"sk-text-repr-fallback\"><pre>XGBClassifier(base_score=None, booster=None, callbacks=None,\n",
              "              colsample_bylevel=None, colsample_bynode=None,\n",
              "              colsample_bytree=None, device=None, early_stopping_rounds=None,\n",
              "              enable_categorical=False, eval_metric=None, feature_types=None,\n",
              "              gamma=None, grow_policy=None, importance_type=None,\n",
              "              interaction_constraints=None, learning_rate=None, max_bin=None,\n",
              "              max_cat_threshold=None, max_cat_to_onehot=None,\n",
              "              max_delta_step=None, max_depth=None, max_leaves=None,\n",
              "              min_child_weight=None, missing=nan, monotone_constraints=None,\n",
              "              multi_strategy=None, n_estimators=None, n_jobs=None,\n",
              "              num_parallel_tree=None, objective=&#x27;multi:softprob&#x27;, ...)</pre><b>In a Jupyter environment, please rerun this cell to show the HTML representation or trust the notebook. <br />On GitHub, the HTML representation is unable to render, please try loading this page with nbviewer.org.</b></div><div class=\"sk-container\" hidden><div class=\"sk-item\"><div class=\"sk-estimator sk-toggleable\"><input class=\"sk-toggleable__control sk-hidden--visually\" id=\"sk-estimator-id-13\" type=\"checkbox\" checked><label for=\"sk-estimator-id-13\" class=\"sk-toggleable__label sk-toggleable__label-arrow\">XGBClassifier</label><div class=\"sk-toggleable__content\"><pre>XGBClassifier(base_score=None, booster=None, callbacks=None,\n",
              "              colsample_bylevel=None, colsample_bynode=None,\n",
              "              colsample_bytree=None, device=None, early_stopping_rounds=None,\n",
              "              enable_categorical=False, eval_metric=None, feature_types=None,\n",
              "              gamma=None, grow_policy=None, importance_type=None,\n",
              "              interaction_constraints=None, learning_rate=None, max_bin=None,\n",
              "              max_cat_threshold=None, max_cat_to_onehot=None,\n",
              "              max_delta_step=None, max_depth=None, max_leaves=None,\n",
              "              min_child_weight=None, missing=nan, monotone_constraints=None,\n",
              "              multi_strategy=None, n_estimators=None, n_jobs=None,\n",
              "              num_parallel_tree=None, objective=&#x27;multi:softprob&#x27;, ...)</pre></div></div></div></div></div>"
            ],
            "text/plain": [
              "XGBClassifier(base_score=None, booster=None, callbacks=None,\n",
              "              colsample_bylevel=None, colsample_bynode=None,\n",
              "              colsample_bytree=None, device=None, early_stopping_rounds=None,\n",
              "              enable_categorical=False, eval_metric=None, feature_types=None,\n",
              "              gamma=None, grow_policy=None, importance_type=None,\n",
              "              interaction_constraints=None, learning_rate=None, max_bin=None,\n",
              "              max_cat_threshold=None, max_cat_to_onehot=None,\n",
              "              max_delta_step=None, max_depth=None, max_leaves=None,\n",
              "              min_child_weight=None, missing=nan, monotone_constraints=None,\n",
              "              multi_strategy=None, n_estimators=None, n_jobs=None,\n",
              "              num_parallel_tree=None, objective='multi:softprob', ...)"
            ]
          },
          "execution_count": 137,
          "metadata": {},
          "output_type": "execute_result"
        }
      ],
      "source": [
        "xgc.fit(X_train,y_train)"
      ]
    },
    {
      "cell_type": "code",
      "execution_count": null,
      "metadata": {
        "id": "bqgKif6msigc"
      },
      "outputs": [],
      "source": [
        "y_pred = xgc.predict(X_test)"
      ]
    },
    {
      "cell_type": "code",
      "execution_count": null,
      "metadata": {
        "colab": {
          "base_uri": "https://localhost:8080/"
        },
        "id": "2L-AzpQbtLi6",
        "outputId": "cad3798a-b7f1-4ddf-fd3d-622f6fab13ba"
      },
      "outputs": [
        {
          "data": {
            "text/plain": [
              "0.9644444444444444"
            ]
          },
          "execution_count": 133,
          "metadata": {},
          "output_type": "execute_result"
        }
      ],
      "source": [
        "f1_score(y_test,y_pred, average=\"micro\" )"
      ]
    },
    {
      "cell_type": "code",
      "execution_count": null,
      "metadata": {
        "colab": {
          "base_uri": "https://localhost:8080/"
        },
        "id": "G_K3geePtOZA",
        "outputId": "c1d395a0-3b2f-4c22-bf2c-59e4f6a5951a"
      },
      "outputs": [
        {
          "name": "stdout",
          "output_type": "stream",
          "text": [
            "              precision    recall  f1-score   support\n",
            "\n",
            "           0       0.96      0.94      0.95       600\n",
            "           1       0.98      0.99      0.99       600\n",
            "           2       0.97      0.94      0.95       600\n",
            "           3       0.95      0.96      0.95       600\n",
            "           4       0.95      0.97      0.96       600\n",
            "           5       0.98      0.99      0.99       600\n",
            "\n",
            "    accuracy                           0.96      3600\n",
            "   macro avg       0.96      0.96      0.96      3600\n",
            "weighted avg       0.96      0.96      0.96      3600\n",
            "\n"
          ]
        }
      ],
      "source": [
        "print(classification_report(y_test,y_pred ))"
      ]
    },
    {
      "cell_type": "markdown",
      "metadata": {
        "id": "vhWpxo5VtXxZ"
      },
      "source": [
        "Catboost"
      ]
    },
    {
      "cell_type": "code",
      "execution_count": null,
      "metadata": {
        "colab": {
          "base_uri": "https://localhost:8080/"
        },
        "id": "c-6GgpYctZn0",
        "outputId": "10f9f951-b122-4a29-83bc-2f231a1903ad"
      },
      "outputs": [
        {
          "name": "stdout",
          "output_type": "stream",
          "text": [
            "Collecting catboost\n",
            "  Downloading catboost-1.2.2-cp310-cp310-manylinux2014_x86_64.whl (98.7 MB)\n",
            "\u001b[2K     \u001b[90m━━━━━━━━━━━━━━━━━━━━━━━━━━━━━━━━━━━━━━━━\u001b[0m \u001b[32m98.7/98.7 MB\u001b[0m \u001b[31m8.9 MB/s\u001b[0m eta \u001b[36m0:00:00\u001b[0m\n",
            "\u001b[?25hRequirement already satisfied: graphviz in /usr/local/lib/python3.10/dist-packages (from catboost) (0.20.1)\n",
            "Requirement already satisfied: matplotlib in /usr/local/lib/python3.10/dist-packages (from catboost) (3.7.1)\n",
            "Requirement already satisfied: numpy>=1.16.0 in /usr/local/lib/python3.10/dist-packages (from catboost) (1.23.5)\n",
            "Requirement already satisfied: pandas>=0.24 in /usr/local/lib/python3.10/dist-packages (from catboost) (1.5.3)\n",
            "Requirement already satisfied: scipy in /usr/local/lib/python3.10/dist-packages (from catboost) (1.11.4)\n",
            "Requirement already satisfied: plotly in /usr/local/lib/python3.10/dist-packages (from catboost) (5.15.0)\n",
            "Requirement already satisfied: six in /usr/local/lib/python3.10/dist-packages (from catboost) (1.16.0)\n",
            "Requirement already satisfied: python-dateutil>=2.8.1 in /usr/local/lib/python3.10/dist-packages (from pandas>=0.24->catboost) (2.8.2)\n",
            "Requirement already satisfied: pytz>=2020.1 in /usr/local/lib/python3.10/dist-packages (from pandas>=0.24->catboost) (2023.3.post1)\n",
            "Requirement already satisfied: contourpy>=1.0.1 in /usr/local/lib/python3.10/dist-packages (from matplotlib->catboost) (1.2.0)\n",
            "Requirement already satisfied: cycler>=0.10 in /usr/local/lib/python3.10/dist-packages (from matplotlib->catboost) (0.12.1)\n",
            "Requirement already satisfied: fonttools>=4.22.0 in /usr/local/lib/python3.10/dist-packages (from matplotlib->catboost) (4.47.0)\n",
            "Requirement already satisfied: kiwisolver>=1.0.1 in /usr/local/lib/python3.10/dist-packages (from matplotlib->catboost) (1.4.5)\n",
            "Requirement already satisfied: packaging>=20.0 in /usr/local/lib/python3.10/dist-packages (from matplotlib->catboost) (23.2)\n",
            "Requirement already satisfied: pillow>=6.2.0 in /usr/local/lib/python3.10/dist-packages (from matplotlib->catboost) (9.4.0)\n",
            "Requirement already satisfied: pyparsing>=2.3.1 in /usr/local/lib/python3.10/dist-packages (from matplotlib->catboost) (3.1.1)\n",
            "Requirement already satisfied: tenacity>=6.2.0 in /usr/local/lib/python3.10/dist-packages (from plotly->catboost) (8.2.3)\n",
            "Installing collected packages: catboost\n",
            "Successfully installed catboost-1.2.2\n"
          ]
        }
      ],
      "source": [
        "!pip install catboost"
      ]
    },
    {
      "cell_type": "code",
      "execution_count": null,
      "metadata": {
        "id": "lQHsLGLEtobJ"
      },
      "outputs": [],
      "source": [
        "import catboost"
      ]
    },
    {
      "cell_type": "code",
      "execution_count": null,
      "metadata": {
        "id": "-AzaxAfNwu7t"
      },
      "outputs": [],
      "source": [
        "from catboost import CatBoostClassifier"
      ]
    },
    {
      "cell_type": "code",
      "execution_count": null,
      "metadata": {
        "id": "Rnm3p8G-wvIv"
      },
      "outputs": [],
      "source": [
        "cbc = CatBoostClassifier(random_state=7)"
      ]
    },
    {
      "cell_type": "code",
      "execution_count": 144,
      "metadata": {
        "colab": {
          "base_uri": "https://localhost:8080/"
        },
        "id": "uQdspN9lw_QW",
        "outputId": "f84a4445-f43d-4be3-f788-ccc2ebcf5d2f"
      },
      "outputs": [
        {
          "output_type": "stream",
          "name": "stdout",
          "text": [
            "Learning rate set to 0.088199\n",
            "0:\tlearn: 1.6486798\ttotal: 3.38s\tremaining: 56m 13s\n",
            "1:\tlearn: 1.5327728\ttotal: 5.22s\tremaining: 43m 27s\n",
            "2:\tlearn: 1.4310852\ttotal: 7.14s\tremaining: 39m 33s\n",
            "3:\tlearn: 1.3450766\ttotal: 8.8s\tremaining: 36m 30s\n",
            "4:\tlearn: 1.2713172\ttotal: 9.97s\tremaining: 33m 3s\n",
            "5:\tlearn: 1.2107710\ttotal: 11.2s\tremaining: 30m 47s\n",
            "6:\tlearn: 1.1583463\ttotal: 12.3s\tremaining: 29m 6s\n",
            "7:\tlearn: 1.1086064\ttotal: 13.4s\tremaining: 27m 43s\n",
            "8:\tlearn: 1.0647854\ttotal: 14.6s\tremaining: 26m 45s\n",
            "9:\tlearn: 1.0280525\ttotal: 15.7s\tremaining: 25m 52s\n",
            "10:\tlearn: 0.9903671\ttotal: 16.8s\tremaining: 25m 7s\n",
            "11:\tlearn: 0.9570686\ttotal: 17.9s\tremaining: 24m 33s\n",
            "12:\tlearn: 0.9258671\ttotal: 19.3s\tremaining: 24m 26s\n",
            "13:\tlearn: 0.8959245\ttotal: 21.4s\tremaining: 25m 5s\n",
            "14:\tlearn: 0.8689808\ttotal: 23.3s\tremaining: 25m 28s\n",
            "15:\tlearn: 0.8397482\ttotal: 25.2s\tremaining: 25m 51s\n",
            "16:\tlearn: 0.8169834\ttotal: 26.5s\tremaining: 25m 30s\n",
            "17:\tlearn: 0.7925362\ttotal: 27.7s\tremaining: 25m 9s\n",
            "18:\tlearn: 0.7720373\ttotal: 28.7s\tremaining: 24m 43s\n",
            "19:\tlearn: 0.7511377\ttotal: 29.8s\tremaining: 24m 20s\n",
            "20:\tlearn: 0.7323545\ttotal: 30.9s\tremaining: 23m 59s\n",
            "21:\tlearn: 0.7155914\ttotal: 32s\tremaining: 23m 40s\n",
            "22:\tlearn: 0.6989510\ttotal: 33.1s\tremaining: 23m 25s\n",
            "23:\tlearn: 0.6804785\ttotal: 34.2s\tremaining: 23m 10s\n",
            "24:\tlearn: 0.6638192\ttotal: 35.2s\tremaining: 22m 54s\n",
            "25:\tlearn: 0.6464710\ttotal: 37s\tremaining: 23m 6s\n",
            "26:\tlearn: 0.6299507\ttotal: 38.8s\tremaining: 23m 18s\n",
            "27:\tlearn: 0.6154722\ttotal: 40.8s\tremaining: 23m 37s\n",
            "28:\tlearn: 0.6020111\ttotal: 42.3s\tremaining: 23m 35s\n",
            "29:\tlearn: 0.5909228\ttotal: 43.3s\tremaining: 23m 20s\n",
            "30:\tlearn: 0.5781999\ttotal: 44.4s\tremaining: 23m 7s\n",
            "31:\tlearn: 0.5689304\ttotal: 45.5s\tremaining: 22m 56s\n",
            "32:\tlearn: 0.5582410\ttotal: 46.6s\tremaining: 22m 44s\n",
            "33:\tlearn: 0.5478199\ttotal: 47.6s\tremaining: 22m 33s\n",
            "34:\tlearn: 0.5378075\ttotal: 48.7s\tremaining: 22m 22s\n",
            "35:\tlearn: 0.5294001\ttotal: 49.8s\tremaining: 22m 13s\n",
            "36:\tlearn: 0.5204643\ttotal: 50.8s\tremaining: 22m 2s\n",
            "37:\tlearn: 0.5122307\ttotal: 51.9s\tremaining: 21m 54s\n",
            "38:\tlearn: 0.5030140\ttotal: 53.7s\tremaining: 22m 2s\n",
            "39:\tlearn: 0.4960700\ttotal: 55.4s\tremaining: 22m 9s\n",
            "40:\tlearn: 0.4875236\ttotal: 57.3s\tremaining: 22m 19s\n",
            "41:\tlearn: 0.4789867\ttotal: 58.9s\tremaining: 22m 23s\n",
            "42:\tlearn: 0.4711854\ttotal: 1m\tremaining: 22m 15s\n",
            "43:\tlearn: 0.4627523\ttotal: 1m 1s\tremaining: 22m 8s\n",
            "44:\tlearn: 0.4555146\ttotal: 1m 2s\tremaining: 21m 59s\n",
            "45:\tlearn: 0.4471741\ttotal: 1m 3s\tremaining: 21m 51s\n",
            "46:\tlearn: 0.4389332\ttotal: 1m 4s\tremaining: 21m 43s\n",
            "47:\tlearn: 0.4315957\ttotal: 1m 5s\tremaining: 21m 35s\n",
            "48:\tlearn: 0.4254895\ttotal: 1m 6s\tremaining: 21m 27s\n",
            "49:\tlearn: 0.4194436\ttotal: 1m 7s\tremaining: 21m 22s\n",
            "50:\tlearn: 0.4142453\ttotal: 1m 8s\tremaining: 21m 17s\n",
            "51:\tlearn: 0.4080873\ttotal: 1m 10s\tremaining: 21m 19s\n",
            "52:\tlearn: 0.4012715\ttotal: 1m 11s\tremaining: 21m 25s\n",
            "53:\tlearn: 0.3958709\ttotal: 1m 13s\tremaining: 21m 33s\n",
            "54:\tlearn: 0.3911422\ttotal: 1m 15s\tremaining: 21m 38s\n",
            "55:\tlearn: 0.3870611\ttotal: 1m 16s\tremaining: 21m 33s\n",
            "56:\tlearn: 0.3822310\ttotal: 1m 17s\tremaining: 21m 26s\n",
            "57:\tlearn: 0.3774997\ttotal: 1m 18s\tremaining: 21m 19s\n",
            "58:\tlearn: 0.3718125\ttotal: 1m 20s\tremaining: 21m 16s\n",
            "59:\tlearn: 0.3666108\ttotal: 1m 21s\tremaining: 21m 11s\n",
            "60:\tlearn: 0.3617067\ttotal: 1m 22s\tremaining: 21m 7s\n",
            "61:\tlearn: 0.3573037\ttotal: 1m 23s\tremaining: 21m 3s\n",
            "62:\tlearn: 0.3527969\ttotal: 1m 24s\tremaining: 20m 58s\n",
            "63:\tlearn: 0.3478192\ttotal: 1m 25s\tremaining: 20m 52s\n",
            "64:\tlearn: 0.3436097\ttotal: 1m 27s\tremaining: 20m 57s\n",
            "65:\tlearn: 0.3407111\ttotal: 1m 29s\tremaining: 21m 1s\n",
            "66:\tlearn: 0.3368165\ttotal: 1m 31s\tremaining: 21m 7s\n",
            "67:\tlearn: 0.3326058\ttotal: 1m 32s\tremaining: 21m 8s\n",
            "68:\tlearn: 0.3297982\ttotal: 1m 33s\tremaining: 21m 2s\n",
            "69:\tlearn: 0.3263153\ttotal: 1m 34s\tremaining: 20m 57s\n",
            "70:\tlearn: 0.3230178\ttotal: 1m 35s\tremaining: 20m 52s\n",
            "71:\tlearn: 0.3208454\ttotal: 1m 36s\tremaining: 20m 46s\n",
            "72:\tlearn: 0.3175055\ttotal: 1m 37s\tremaining: 20m 41s\n",
            "73:\tlearn: 0.3144983\ttotal: 1m 38s\tremaining: 20m 38s\n",
            "74:\tlearn: 0.3097697\ttotal: 1m 40s\tremaining: 20m 34s\n",
            "75:\tlearn: 0.3059323\ttotal: 1m 41s\tremaining: 20m 30s\n",
            "76:\tlearn: 0.3028833\ttotal: 1m 42s\tremaining: 20m 27s\n",
            "77:\tlearn: 0.2998674\ttotal: 1m 44s\tremaining: 20m 33s\n",
            "78:\tlearn: 0.2973541\ttotal: 1m 46s\tremaining: 20m 36s\n",
            "79:\tlearn: 0.2944479\ttotal: 1m 47s\tremaining: 20m 41s\n",
            "80:\tlearn: 0.2918274\ttotal: 1m 49s\tremaining: 20m 40s\n",
            "81:\tlearn: 0.2895194\ttotal: 1m 50s\tremaining: 20m 37s\n",
            "82:\tlearn: 0.2862802\ttotal: 1m 51s\tremaining: 20m 33s\n",
            "83:\tlearn: 0.2833500\ttotal: 1m 52s\tremaining: 20m 30s\n",
            "84:\tlearn: 0.2804829\ttotal: 1m 53s\tremaining: 20m 26s\n",
            "85:\tlearn: 0.2776198\ttotal: 1m 55s\tremaining: 20m 22s\n",
            "86:\tlearn: 0.2747970\ttotal: 1m 56s\tremaining: 20m 17s\n",
            "87:\tlearn: 0.2720401\ttotal: 1m 57s\tremaining: 20m 13s\n",
            "88:\tlearn: 0.2701358\ttotal: 1m 58s\tremaining: 20m 9s\n",
            "89:\tlearn: 0.2678140\ttotal: 1m 59s\tremaining: 20m 6s\n",
            "90:\tlearn: 0.2642372\ttotal: 2m 1s\tremaining: 20m 11s\n",
            "91:\tlearn: 0.2614522\ttotal: 2m 3s\tremaining: 20m 14s\n",
            "92:\tlearn: 0.2587405\ttotal: 2m 4s\tremaining: 20m 18s\n",
            "93:\tlearn: 0.2564259\ttotal: 2m 6s\tremaining: 20m 16s\n",
            "94:\tlearn: 0.2530553\ttotal: 2m 7s\tremaining: 20m 13s\n",
            "95:\tlearn: 0.2510786\ttotal: 2m 8s\tremaining: 20m 9s\n",
            "96:\tlearn: 0.2490927\ttotal: 2m 9s\tremaining: 20m 5s\n",
            "97:\tlearn: 0.2460943\ttotal: 2m 10s\tremaining: 20m 1s\n",
            "98:\tlearn: 0.2436965\ttotal: 2m 11s\tremaining: 19m 57s\n",
            "99:\tlearn: 0.2398409\ttotal: 2m 12s\tremaining: 19m 54s\n",
            "100:\tlearn: 0.2379068\ttotal: 2m 13s\tremaining: 19m 50s\n",
            "101:\tlearn: 0.2353983\ttotal: 2m 14s\tremaining: 19m 46s\n",
            "102:\tlearn: 0.2332390\ttotal: 2m 16s\tremaining: 19m 44s\n",
            "103:\tlearn: 0.2313586\ttotal: 2m 17s\tremaining: 19m 47s\n",
            "104:\tlearn: 0.2290493\ttotal: 2m 19s\tremaining: 19m 50s\n",
            "105:\tlearn: 0.2257767\ttotal: 2m 21s\tremaining: 19m 53s\n",
            "106:\tlearn: 0.2233506\ttotal: 2m 22s\tremaining: 19m 52s\n",
            "107:\tlearn: 0.2209129\ttotal: 2m 23s\tremaining: 19m 48s\n",
            "108:\tlearn: 0.2186315\ttotal: 2m 25s\tremaining: 19m 45s\n",
            "109:\tlearn: 0.2169910\ttotal: 2m 26s\tremaining: 19m 42s\n",
            "110:\tlearn: 0.2157515\ttotal: 2m 27s\tremaining: 19m 39s\n",
            "111:\tlearn: 0.2129736\ttotal: 2m 28s\tremaining: 19m 36s\n",
            "112:\tlearn: 0.2115721\ttotal: 2m 29s\tremaining: 19m 33s\n",
            "113:\tlearn: 0.2094784\ttotal: 2m 30s\tremaining: 19m 30s\n",
            "114:\tlearn: 0.2074579\ttotal: 2m 31s\tremaining: 19m 27s\n",
            "115:\tlearn: 0.2056787\ttotal: 2m 33s\tremaining: 19m 26s\n",
            "116:\tlearn: 0.2028253\ttotal: 2m 35s\tremaining: 19m 29s\n",
            "117:\tlearn: 0.2009151\ttotal: 2m 36s\tremaining: 19m 33s\n",
            "118:\tlearn: 0.1989414\ttotal: 2m 38s\tremaining: 19m 35s\n",
            "119:\tlearn: 0.1965139\ttotal: 2m 39s\tremaining: 19m 32s\n",
            "120:\tlearn: 0.1941418\ttotal: 2m 40s\tremaining: 19m 28s\n",
            "121:\tlearn: 0.1929979\ttotal: 2m 41s\tremaining: 19m 25s\n",
            "122:\tlearn: 0.1922047\ttotal: 2m 42s\tremaining: 19m 21s\n",
            "123:\tlearn: 0.1901933\ttotal: 2m 44s\tremaining: 19m 18s\n",
            "124:\tlearn: 0.1883488\ttotal: 2m 45s\tremaining: 19m 15s\n",
            "125:\tlearn: 0.1859986\ttotal: 2m 46s\tremaining: 19m 12s\n",
            "126:\tlearn: 0.1840553\ttotal: 2m 47s\tremaining: 19m 9s\n",
            "127:\tlearn: 0.1821110\ttotal: 2m 48s\tremaining: 19m 6s\n",
            "128:\tlearn: 0.1809002\ttotal: 2m 49s\tremaining: 19m 5s\n",
            "129:\tlearn: 0.1796779\ttotal: 2m 51s\tremaining: 19m 7s\n",
            "130:\tlearn: 0.1786583\ttotal: 2m 53s\tremaining: 19m 9s\n",
            "131:\tlearn: 0.1773162\ttotal: 2m 54s\tremaining: 19m 10s\n",
            "132:\tlearn: 0.1759114\ttotal: 2m 56s\tremaining: 19m 7s\n",
            "133:\tlearn: 0.1738827\ttotal: 2m 57s\tremaining: 19m 4s\n",
            "134:\tlearn: 0.1729046\ttotal: 2m 58s\tremaining: 19m 1s\n",
            "135:\tlearn: 0.1709018\ttotal: 2m 59s\tremaining: 18m 58s\n",
            "136:\tlearn: 0.1697631\ttotal: 3m\tremaining: 18m 55s\n",
            "137:\tlearn: 0.1685987\ttotal: 3m 1s\tremaining: 18m 53s\n",
            "138:\tlearn: 0.1671973\ttotal: 3m 2s\tremaining: 18m 50s\n",
            "139:\tlearn: 0.1657423\ttotal: 3m 3s\tremaining: 18m 47s\n",
            "140:\tlearn: 0.1648091\ttotal: 3m 4s\tremaining: 18m 44s\n",
            "141:\tlearn: 0.1633580\ttotal: 3m 5s\tremaining: 18m 43s\n",
            "142:\tlearn: 0.1622511\ttotal: 3m 7s\tremaining: 18m 43s\n",
            "143:\tlearn: 0.1611434\ttotal: 3m 9s\tremaining: 18m 45s\n",
            "144:\tlearn: 0.1602396\ttotal: 3m 11s\tremaining: 18m 46s\n",
            "145:\tlearn: 0.1590717\ttotal: 3m 12s\tremaining: 18m 45s\n",
            "146:\tlearn: 0.1573294\ttotal: 3m 13s\tremaining: 18m 42s\n",
            "147:\tlearn: 0.1561316\ttotal: 3m 14s\tremaining: 18m 39s\n",
            "148:\tlearn: 0.1548959\ttotal: 3m 15s\tremaining: 18m 36s\n",
            "149:\tlearn: 0.1539044\ttotal: 3m 16s\tremaining: 18m 34s\n",
            "150:\tlearn: 0.1523595\ttotal: 3m 17s\tremaining: 18m 31s\n",
            "151:\tlearn: 0.1507922\ttotal: 3m 18s\tremaining: 18m 29s\n",
            "152:\tlearn: 0.1498617\ttotal: 3m 19s\tremaining: 18m 26s\n",
            "153:\tlearn: 0.1492663\ttotal: 3m 20s\tremaining: 18m 24s\n",
            "154:\tlearn: 0.1484515\ttotal: 3m 22s\tremaining: 18m 21s\n",
            "155:\tlearn: 0.1475463\ttotal: 3m 23s\tremaining: 18m 22s\n",
            "156:\tlearn: 0.1466245\ttotal: 3m 25s\tremaining: 18m 23s\n",
            "157:\tlearn: 0.1457550\ttotal: 3m 27s\tremaining: 18m 24s\n",
            "158:\tlearn: 0.1448918\ttotal: 3m 28s\tremaining: 18m 23s\n",
            "159:\tlearn: 0.1441341\ttotal: 3m 29s\tremaining: 18m 20s\n",
            "160:\tlearn: 0.1427406\ttotal: 3m 30s\tremaining: 18m 17s\n",
            "161:\tlearn: 0.1415618\ttotal: 3m 31s\tremaining: 18m 15s\n",
            "162:\tlearn: 0.1404797\ttotal: 3m 32s\tremaining: 18m 13s\n",
            "163:\tlearn: 0.1394792\ttotal: 3m 33s\tremaining: 18m 10s\n",
            "164:\tlearn: 0.1382997\ttotal: 3m 35s\tremaining: 18m 8s\n",
            "165:\tlearn: 0.1376280\ttotal: 3m 36s\tremaining: 18m 5s\n",
            "166:\tlearn: 0.1366874\ttotal: 3m 37s\tremaining: 18m 3s\n",
            "167:\tlearn: 0.1361298\ttotal: 3m 38s\tremaining: 18m 2s\n",
            "168:\tlearn: 0.1351258\ttotal: 3m 40s\tremaining: 18m 4s\n",
            "169:\tlearn: 0.1342152\ttotal: 3m 42s\tremaining: 18m 4s\n",
            "170:\tlearn: 0.1327375\ttotal: 3m 44s\tremaining: 18m 5s\n",
            "171:\tlearn: 0.1316165\ttotal: 3m 45s\tremaining: 18m 5s\n",
            "172:\tlearn: 0.1310386\ttotal: 3m 46s\tremaining: 18m 2s\n",
            "173:\tlearn: 0.1302666\ttotal: 3m 47s\tremaining: 18m\n",
            "174:\tlearn: 0.1289852\ttotal: 3m 48s\tremaining: 17m 58s\n",
            "175:\tlearn: 0.1281989\ttotal: 3m 49s\tremaining: 17m 56s\n",
            "176:\tlearn: 0.1271193\ttotal: 3m 51s\tremaining: 17m 54s\n",
            "177:\tlearn: 0.1265500\ttotal: 3m 52s\tremaining: 17m 52s\n",
            "178:\tlearn: 0.1258072\ttotal: 3m 53s\tremaining: 17m 49s\n",
            "179:\tlearn: 0.1248895\ttotal: 3m 54s\tremaining: 17m 47s\n",
            "180:\tlearn: 0.1242290\ttotal: 3m 55s\tremaining: 17m 46s\n",
            "181:\tlearn: 0.1235195\ttotal: 3m 57s\tremaining: 17m 47s\n",
            "182:\tlearn: 0.1223014\ttotal: 3m 59s\tremaining: 17m 48s\n",
            "183:\tlearn: 0.1215723\ttotal: 4m 1s\tremaining: 17m 48s\n",
            "184:\tlearn: 0.1204701\ttotal: 4m 2s\tremaining: 17m 46s\n",
            "185:\tlearn: 0.1198253\ttotal: 4m 3s\tremaining: 17m 44s\n",
            "186:\tlearn: 0.1187166\ttotal: 4m 4s\tremaining: 17m 42s\n",
            "187:\tlearn: 0.1178212\ttotal: 4m 5s\tremaining: 17m 39s\n",
            "188:\tlearn: 0.1171024\ttotal: 4m 6s\tremaining: 17m 37s\n",
            "189:\tlearn: 0.1163455\ttotal: 4m 7s\tremaining: 17m 34s\n",
            "190:\tlearn: 0.1153885\ttotal: 4m 8s\tremaining: 17m 32s\n",
            "191:\tlearn: 0.1149732\ttotal: 4m 9s\tremaining: 17m 29s\n",
            "192:\tlearn: 0.1142808\ttotal: 4m 10s\tremaining: 17m 27s\n",
            "193:\tlearn: 0.1134833\ttotal: 4m 11s\tremaining: 17m 26s\n",
            "194:\tlearn: 0.1125622\ttotal: 4m 13s\tremaining: 17m 27s\n",
            "195:\tlearn: 0.1120037\ttotal: 4m 15s\tremaining: 17m 28s\n",
            "196:\tlearn: 0.1116213\ttotal: 4m 17s\tremaining: 17m 28s\n",
            "197:\tlearn: 0.1109948\ttotal: 4m 18s\tremaining: 17m 27s\n",
            "198:\tlearn: 0.1100457\ttotal: 4m 19s\tremaining: 17m 25s\n",
            "199:\tlearn: 0.1094253\ttotal: 4m 20s\tremaining: 17m 22s\n",
            "200:\tlearn: 0.1089155\ttotal: 4m 21s\tremaining: 17m 20s\n",
            "201:\tlearn: 0.1085537\ttotal: 4m 22s\tremaining: 17m 17s\n",
            "202:\tlearn: 0.1081539\ttotal: 4m 23s\tremaining: 17m 15s\n",
            "203:\tlearn: 0.1077328\ttotal: 4m 24s\tremaining: 17m 13s\n",
            "204:\tlearn: 0.1070305\ttotal: 4m 26s\tremaining: 17m 12s\n",
            "205:\tlearn: 0.1062995\ttotal: 4m 27s\tremaining: 17m 9s\n",
            "206:\tlearn: 0.1057780\ttotal: 4m 28s\tremaining: 17m 8s\n",
            "207:\tlearn: 0.1052169\ttotal: 4m 30s\tremaining: 17m 9s\n",
            "208:\tlearn: 0.1047720\ttotal: 4m 32s\tremaining: 17m 12s\n",
            "209:\tlearn: 0.1044476\ttotal: 4m 34s\tremaining: 17m 12s\n",
            "210:\tlearn: 0.1039865\ttotal: 4m 35s\tremaining: 17m 11s\n",
            "211:\tlearn: 0.1036374\ttotal: 4m 36s\tremaining: 17m 9s\n",
            "212:\tlearn: 0.1031786\ttotal: 4m 38s\tremaining: 17m 7s\n",
            "213:\tlearn: 0.1027935\ttotal: 4m 39s\tremaining: 17m 4s\n",
            "214:\tlearn: 0.1022690\ttotal: 4m 40s\tremaining: 17m 2s\n",
            "215:\tlearn: 0.1017922\ttotal: 4m 41s\tremaining: 17m\n",
            "216:\tlearn: 0.1012976\ttotal: 4m 42s\tremaining: 16m 58s\n",
            "217:\tlearn: 0.1002262\ttotal: 4m 43s\tremaining: 16m 56s\n",
            "218:\tlearn: 0.0998843\ttotal: 4m 44s\tremaining: 16m 53s\n",
            "219:\tlearn: 0.0996958\ttotal: 4m 44s\tremaining: 16m 49s\n",
            "220:\tlearn: 0.0992162\ttotal: 4m 45s\tremaining: 16m 47s\n",
            "221:\tlearn: 0.0989758\ttotal: 4m 47s\tremaining: 16m 47s\n",
            "222:\tlearn: 0.0985591\ttotal: 4m 49s\tremaining: 16m 47s\n",
            "223:\tlearn: 0.0982109\ttotal: 4m 50s\tremaining: 16m 48s\n",
            "224:\tlearn: 0.0973777\ttotal: 4m 52s\tremaining: 16m 47s\n",
            "225:\tlearn: 0.0966560\ttotal: 4m 53s\tremaining: 16m 45s\n",
            "226:\tlearn: 0.0961929\ttotal: 4m 54s\tremaining: 16m 43s\n",
            "227:\tlearn: 0.0959646\ttotal: 4m 55s\tremaining: 16m 41s\n",
            "228:\tlearn: 0.0954843\ttotal: 4m 56s\tremaining: 16m 39s\n",
            "229:\tlearn: 0.0950374\ttotal: 4m 57s\tremaining: 16m 36s\n",
            "230:\tlearn: 0.0944569\ttotal: 4m 58s\tremaining: 16m 35s\n",
            "231:\tlearn: 0.0942415\ttotal: 4m 59s\tremaining: 16m 32s\n",
            "232:\tlearn: 0.0938966\ttotal: 5m\tremaining: 16m 30s\n",
            "233:\tlearn: 0.0935675\ttotal: 5m 1s\tremaining: 16m 28s\n",
            "234:\tlearn: 0.0933298\ttotal: 5m 3s\tremaining: 16m 27s\n",
            "235:\tlearn: 0.0930081\ttotal: 5m 5s\tremaining: 16m 27s\n",
            "236:\tlearn: 0.0923401\ttotal: 5m 7s\tremaining: 16m 28s\n",
            "237:\tlearn: 0.0918693\ttotal: 5m 8s\tremaining: 16m 28s\n",
            "238:\tlearn: 0.0915030\ttotal: 5m 9s\tremaining: 16m 26s\n",
            "239:\tlearn: 0.0913889\ttotal: 5m 10s\tremaining: 16m 24s\n",
            "240:\tlearn: 0.0910504\ttotal: 5m 12s\tremaining: 16m 22s\n",
            "241:\tlearn: 0.0906606\ttotal: 5m 13s\tremaining: 16m 20s\n",
            "242:\tlearn: 0.0899294\ttotal: 5m 14s\tremaining: 16m 18s\n",
            "243:\tlearn: 0.0895130\ttotal: 5m 15s\tremaining: 16m 16s\n",
            "244:\tlearn: 0.0891058\ttotal: 5m 16s\tremaining: 16m 14s\n",
            "245:\tlearn: 0.0887431\ttotal: 5m 17s\tremaining: 16m 12s\n",
            "246:\tlearn: 0.0883693\ttotal: 5m 18s\tremaining: 16m 10s\n",
            "247:\tlearn: 0.0875631\ttotal: 5m 19s\tremaining: 16m 10s\n",
            "248:\tlearn: 0.0872209\ttotal: 5m 21s\tremaining: 16m 10s\n",
            "249:\tlearn: 0.0869699\ttotal: 5m 23s\tremaining: 16m 11s\n",
            "250:\tlearn: 0.0863806\ttotal: 5m 25s\tremaining: 16m 11s\n",
            "251:\tlearn: 0.0854713\ttotal: 5m 26s\tremaining: 16m 9s\n",
            "252:\tlearn: 0.0852493\ttotal: 5m 27s\tremaining: 16m 7s\n",
            "253:\tlearn: 0.0849771\ttotal: 5m 28s\tremaining: 16m 5s\n",
            "254:\tlearn: 0.0845827\ttotal: 5m 29s\tremaining: 16m 3s\n",
            "255:\tlearn: 0.0842575\ttotal: 5m 30s\tremaining: 16m 1s\n",
            "256:\tlearn: 0.0840040\ttotal: 5m 31s\tremaining: 15m 59s\n",
            "257:\tlearn: 0.0836914\ttotal: 5m 33s\tremaining: 15m 57s\n",
            "258:\tlearn: 0.0834523\ttotal: 5m 34s\tremaining: 15m 56s\n",
            "259:\tlearn: 0.0831741\ttotal: 5m 35s\tremaining: 15m 54s\n",
            "260:\tlearn: 0.0827812\ttotal: 5m 36s\tremaining: 15m 53s\n",
            "261:\tlearn: 0.0826114\ttotal: 5m 38s\tremaining: 15m 53s\n",
            "262:\tlearn: 0.0821996\ttotal: 5m 40s\tremaining: 15m 53s\n",
            "263:\tlearn: 0.0819020\ttotal: 5m 42s\tremaining: 15m 53s\n",
            "264:\tlearn: 0.0817406\ttotal: 5m 43s\tremaining: 15m 52s\n",
            "265:\tlearn: 0.0814312\ttotal: 5m 44s\tremaining: 15m 50s\n",
            "266:\tlearn: 0.0809487\ttotal: 5m 45s\tremaining: 15m 48s\n",
            "267:\tlearn: 0.0806849\ttotal: 5m 46s\tremaining: 15m 46s\n",
            "268:\tlearn: 0.0802478\ttotal: 5m 47s\tremaining: 15m 44s\n",
            "269:\tlearn: 0.0800005\ttotal: 5m 48s\tremaining: 15m 42s\n",
            "270:\tlearn: 0.0796604\ttotal: 5m 49s\tremaining: 15m 40s\n",
            "271:\tlearn: 0.0789769\ttotal: 5m 50s\tremaining: 15m 39s\n",
            "272:\tlearn: 0.0786332\ttotal: 5m 52s\tremaining: 15m 37s\n",
            "273:\tlearn: 0.0780949\ttotal: 5m 53s\tremaining: 15m 36s\n",
            "274:\tlearn: 0.0778682\ttotal: 5m 55s\tremaining: 15m 37s\n",
            "275:\tlearn: 0.0777063\ttotal: 5m 57s\tremaining: 15m 36s\n",
            "276:\tlearn: 0.0771419\ttotal: 5m 58s\tremaining: 15m 36s\n",
            "277:\tlearn: 0.0767210\ttotal: 6m\tremaining: 15m 35s\n",
            "278:\tlearn: 0.0764857\ttotal: 6m 1s\tremaining: 15m 33s\n",
            "279:\tlearn: 0.0761880\ttotal: 6m 2s\tremaining: 15m 31s\n",
            "280:\tlearn: 0.0757963\ttotal: 6m 3s\tremaining: 15m 29s\n",
            "281:\tlearn: 0.0755325\ttotal: 6m 4s\tremaining: 15m 27s\n",
            "282:\tlearn: 0.0751293\ttotal: 6m 5s\tremaining: 15m 26s\n",
            "283:\tlearn: 0.0747609\ttotal: 6m 6s\tremaining: 15m 24s\n",
            "284:\tlearn: 0.0743896\ttotal: 6m 7s\tremaining: 15m 22s\n",
            "285:\tlearn: 0.0739583\ttotal: 6m 8s\tremaining: 15m 21s\n",
            "286:\tlearn: 0.0735030\ttotal: 6m 10s\tremaining: 15m 20s\n",
            "287:\tlearn: 0.0733144\ttotal: 6m 12s\tremaining: 15m 19s\n",
            "288:\tlearn: 0.0731306\ttotal: 6m 13s\tremaining: 15m 19s\n",
            "289:\tlearn: 0.0727777\ttotal: 6m 15s\tremaining: 15m 19s\n",
            "290:\tlearn: 0.0723974\ttotal: 6m 16s\tremaining: 15m 18s\n",
            "291:\tlearn: 0.0720509\ttotal: 6m 17s\tremaining: 15m 16s\n",
            "292:\tlearn: 0.0717526\ttotal: 6m 19s\tremaining: 15m 14s\n",
            "293:\tlearn: 0.0713690\ttotal: 6m 20s\tremaining: 15m 13s\n",
            "294:\tlearn: 0.0708845\ttotal: 6m 21s\tremaining: 15m 11s\n",
            "295:\tlearn: 0.0705120\ttotal: 6m 22s\tremaining: 15m 9s\n",
            "296:\tlearn: 0.0702256\ttotal: 6m 23s\tremaining: 15m 7s\n",
            "297:\tlearn: 0.0699232\ttotal: 6m 24s\tremaining: 15m 5s\n",
            "298:\tlearn: 0.0696042\ttotal: 6m 25s\tremaining: 15m 3s\n",
            "299:\tlearn: 0.0692105\ttotal: 6m 26s\tremaining: 15m 2s\n",
            "300:\tlearn: 0.0689014\ttotal: 6m 28s\tremaining: 15m 2s\n",
            "301:\tlearn: 0.0686892\ttotal: 6m 30s\tremaining: 15m 1s\n",
            "302:\tlearn: 0.0683637\ttotal: 6m 31s\tremaining: 15m 1s\n",
            "303:\tlearn: 0.0681652\ttotal: 6m 33s\tremaining: 15m\n",
            "304:\tlearn: 0.0679038\ttotal: 6m 34s\tremaining: 14m 58s\n",
            "305:\tlearn: 0.0673237\ttotal: 6m 35s\tremaining: 14m 56s\n",
            "306:\tlearn: 0.0671040\ttotal: 6m 36s\tremaining: 14m 54s\n",
            "307:\tlearn: 0.0669008\ttotal: 6m 37s\tremaining: 14m 52s\n",
            "308:\tlearn: 0.0663686\ttotal: 6m 38s\tremaining: 14m 51s\n",
            "309:\tlearn: 0.0661893\ttotal: 6m 39s\tremaining: 14m 49s\n",
            "310:\tlearn: 0.0658062\ttotal: 6m 40s\tremaining: 14m 47s\n",
            "311:\tlearn: 0.0655212\ttotal: 6m 41s\tremaining: 14m 46s\n",
            "312:\tlearn: 0.0654165\ttotal: 6m 43s\tremaining: 14m 44s\n",
            "313:\tlearn: 0.0651124\ttotal: 6m 44s\tremaining: 14m 44s\n",
            "314:\tlearn: 0.0648090\ttotal: 6m 46s\tremaining: 14m 44s\n",
            "315:\tlearn: 0.0645351\ttotal: 6m 48s\tremaining: 14m 44s\n",
            "316:\tlearn: 0.0643774\ttotal: 6m 50s\tremaining: 14m 43s\n",
            "317:\tlearn: 0.0641260\ttotal: 6m 51s\tremaining: 14m 41s\n",
            "318:\tlearn: 0.0639228\ttotal: 6m 52s\tremaining: 14m 39s\n",
            "319:\tlearn: 0.0637181\ttotal: 6m 53s\tremaining: 14m 38s\n",
            "320:\tlearn: 0.0632650\ttotal: 6m 54s\tremaining: 14m 36s\n",
            "321:\tlearn: 0.0629544\ttotal: 6m 55s\tremaining: 14m 34s\n",
            "322:\tlearn: 0.0627740\ttotal: 6m 56s\tremaining: 14m 33s\n",
            "323:\tlearn: 0.0625441\ttotal: 6m 57s\tremaining: 14m 31s\n",
            "324:\tlearn: 0.0624319\ttotal: 6m 58s\tremaining: 14m 29s\n",
            "325:\tlearn: 0.0621943\ttotal: 7m\tremaining: 14m 28s\n",
            "326:\tlearn: 0.0621106\ttotal: 7m 1s\tremaining: 14m 28s\n",
            "327:\tlearn: 0.0619672\ttotal: 7m 3s\tremaining: 14m 27s\n",
            "328:\tlearn: 0.0618193\ttotal: 7m 5s\tremaining: 14m 27s\n",
            "329:\tlearn: 0.0614597\ttotal: 7m 6s\tremaining: 14m 26s\n",
            "330:\tlearn: 0.0611909\ttotal: 7m 7s\tremaining: 14m 24s\n",
            "331:\tlearn: 0.0609740\ttotal: 7m 8s\tremaining: 14m 22s\n",
            "332:\tlearn: 0.0608080\ttotal: 7m 9s\tremaining: 14m 20s\n",
            "333:\tlearn: 0.0603146\ttotal: 7m 10s\tremaining: 14m 19s\n",
            "334:\tlearn: 0.0600962\ttotal: 7m 11s\tremaining: 14m 17s\n",
            "335:\tlearn: 0.0596987\ttotal: 7m 12s\tremaining: 14m 15s\n",
            "336:\tlearn: 0.0595196\ttotal: 7m 14s\tremaining: 14m 13s\n",
            "337:\tlearn: 0.0592618\ttotal: 7m 15s\tremaining: 14m 12s\n",
            "338:\tlearn: 0.0590421\ttotal: 7m 16s\tremaining: 14m 10s\n",
            "339:\tlearn: 0.0587423\ttotal: 7m 18s\tremaining: 14m 10s\n",
            "340:\tlearn: 0.0586426\ttotal: 7m 19s\tremaining: 14m 10s\n",
            "341:\tlearn: 0.0585377\ttotal: 7m 21s\tremaining: 14m 9s\n",
            "342:\tlearn: 0.0583344\ttotal: 7m 23s\tremaining: 14m 9s\n",
            "343:\tlearn: 0.0581698\ttotal: 7m 24s\tremaining: 14m 7s\n",
            "344:\tlearn: 0.0580349\ttotal: 7m 25s\tremaining: 14m 5s\n",
            "345:\tlearn: 0.0577266\ttotal: 7m 26s\tremaining: 14m 4s\n",
            "346:\tlearn: 0.0572643\ttotal: 7m 27s\tremaining: 14m 2s\n",
            "347:\tlearn: 0.0570740\ttotal: 7m 28s\tremaining: 14m 1s\n",
            "348:\tlearn: 0.0568125\ttotal: 7m 29s\tremaining: 13m 59s\n",
            "349:\tlearn: 0.0566074\ttotal: 7m 31s\tremaining: 13m 57s\n",
            "350:\tlearn: 0.0564111\ttotal: 7m 32s\tremaining: 13m 56s\n",
            "351:\tlearn: 0.0562119\ttotal: 7m 33s\tremaining: 13m 54s\n",
            "352:\tlearn: 0.0561443\ttotal: 7m 35s\tremaining: 13m 54s\n",
            "353:\tlearn: 0.0560305\ttotal: 7m 36s\tremaining: 13m 53s\n",
            "354:\tlearn: 0.0558617\ttotal: 7m 38s\tremaining: 13m 53s\n",
            "355:\tlearn: 0.0555478\ttotal: 7m 40s\tremaining: 13m 52s\n",
            "356:\tlearn: 0.0553893\ttotal: 7m 41s\tremaining: 13m 50s\n",
            "357:\tlearn: 0.0551713\ttotal: 7m 42s\tremaining: 13m 48s\n",
            "358:\tlearn: 0.0549486\ttotal: 7m 43s\tremaining: 13m 47s\n",
            "359:\tlearn: 0.0547931\ttotal: 7m 44s\tremaining: 13m 45s\n",
            "360:\tlearn: 0.0546210\ttotal: 7m 45s\tremaining: 13m 43s\n",
            "361:\tlearn: 0.0543758\ttotal: 7m 46s\tremaining: 13m 41s\n",
            "362:\tlearn: 0.0541873\ttotal: 7m 47s\tremaining: 13m 40s\n",
            "363:\tlearn: 0.0539549\ttotal: 7m 48s\tremaining: 13m 38s\n",
            "364:\tlearn: 0.0537601\ttotal: 7m 49s\tremaining: 13m 36s\n",
            "365:\tlearn: 0.0536452\ttotal: 7m 51s\tremaining: 13m 36s\n",
            "366:\tlearn: 0.0534533\ttotal: 7m 52s\tremaining: 13m 35s\n",
            "367:\tlearn: 0.0532475\ttotal: 7m 54s\tremaining: 13m 35s\n",
            "368:\tlearn: 0.0530870\ttotal: 7m 56s\tremaining: 13m 34s\n",
            "369:\tlearn: 0.0529625\ttotal: 7m 57s\tremaining: 13m 32s\n",
            "370:\tlearn: 0.0526762\ttotal: 7m 58s\tremaining: 13m 31s\n",
            "371:\tlearn: 0.0525534\ttotal: 7m 59s\tremaining: 13m 29s\n",
            "372:\tlearn: 0.0523710\ttotal: 8m\tremaining: 13m 27s\n",
            "373:\tlearn: 0.0521725\ttotal: 8m 1s\tremaining: 13m 26s\n",
            "374:\tlearn: 0.0520478\ttotal: 8m 2s\tremaining: 13m 24s\n",
            "375:\tlearn: 0.0518648\ttotal: 8m 3s\tremaining: 13m 22s\n",
            "376:\tlearn: 0.0516849\ttotal: 8m 4s\tremaining: 13m 21s\n",
            "377:\tlearn: 0.0515682\ttotal: 8m 5s\tremaining: 13m 19s\n",
            "378:\tlearn: 0.0513601\ttotal: 8m 7s\tremaining: 13m 18s\n",
            "379:\tlearn: 0.0510300\ttotal: 8m 9s\tremaining: 13m 17s\n",
            "380:\tlearn: 0.0507869\ttotal: 8m 10s\tremaining: 13m 17s\n",
            "381:\tlearn: 0.0505905\ttotal: 8m 12s\tremaining: 13m 16s\n",
            "382:\tlearn: 0.0504812\ttotal: 8m 13s\tremaining: 13m 15s\n",
            "383:\tlearn: 0.0503246\ttotal: 8m 14s\tremaining: 13m 13s\n",
            "384:\tlearn: 0.0501062\ttotal: 8m 15s\tremaining: 13m 12s\n",
            "385:\tlearn: 0.0500139\ttotal: 8m 16s\tremaining: 13m 10s\n",
            "386:\tlearn: 0.0498647\ttotal: 8m 17s\tremaining: 13m 8s\n",
            "387:\tlearn: 0.0497434\ttotal: 8m 18s\tremaining: 13m 7s\n",
            "388:\tlearn: 0.0495866\ttotal: 8m 19s\tremaining: 13m 5s\n",
            "389:\tlearn: 0.0494752\ttotal: 8m 21s\tremaining: 13m 3s\n",
            "390:\tlearn: 0.0491288\ttotal: 8m 22s\tremaining: 13m 2s\n",
            "391:\tlearn: 0.0489869\ttotal: 8m 23s\tremaining: 13m\n",
            "392:\tlearn: 0.0487523\ttotal: 8m 24s\tremaining: 12m 59s\n",
            "393:\tlearn: 0.0486488\ttotal: 8m 26s\tremaining: 12m 58s\n",
            "394:\tlearn: 0.0485181\ttotal: 8m 28s\tremaining: 12m 58s\n",
            "395:\tlearn: 0.0482943\ttotal: 8m 29s\tremaining: 12m 57s\n",
            "396:\tlearn: 0.0482042\ttotal: 8m 30s\tremaining: 12m 56s\n",
            "397:\tlearn: 0.0479880\ttotal: 8m 32s\tremaining: 12m 54s\n",
            "398:\tlearn: 0.0478690\ttotal: 8m 33s\tremaining: 12m 53s\n",
            "399:\tlearn: 0.0476159\ttotal: 8m 34s\tremaining: 12m 51s\n",
            "400:\tlearn: 0.0474372\ttotal: 8m 35s\tremaining: 12m 49s\n",
            "401:\tlearn: 0.0471905\ttotal: 8m 36s\tremaining: 12m 48s\n",
            "402:\tlearn: 0.0470630\ttotal: 8m 37s\tremaining: 12m 46s\n",
            "403:\tlearn: 0.0469048\ttotal: 8m 38s\tremaining: 12m 44s\n",
            "404:\tlearn: 0.0466817\ttotal: 8m 39s\tremaining: 12m 43s\n",
            "405:\tlearn: 0.0464102\ttotal: 8m 40s\tremaining: 12m 42s\n",
            "406:\tlearn: 0.0462730\ttotal: 8m 42s\tremaining: 12m 41s\n",
            "407:\tlearn: 0.0461395\ttotal: 8m 44s\tremaining: 12m 40s\n",
            "408:\tlearn: 0.0459461\ttotal: 8m 46s\tremaining: 12m 40s\n",
            "409:\tlearn: 0.0458504\ttotal: 8m 47s\tremaining: 12m 38s\n",
            "410:\tlearn: 0.0457062\ttotal: 8m 48s\tremaining: 12m 37s\n",
            "411:\tlearn: 0.0455715\ttotal: 8m 49s\tremaining: 12m 35s\n",
            "412:\tlearn: 0.0454345\ttotal: 8m 50s\tremaining: 12m 34s\n",
            "413:\tlearn: 0.0452962\ttotal: 8m 51s\tremaining: 12m 32s\n",
            "414:\tlearn: 0.0451790\ttotal: 8m 52s\tremaining: 12m 31s\n",
            "415:\tlearn: 0.0450502\ttotal: 8m 53s\tremaining: 12m 29s\n",
            "416:\tlearn: 0.0448922\ttotal: 8m 55s\tremaining: 12m 28s\n",
            "417:\tlearn: 0.0447493\ttotal: 8m 56s\tremaining: 12m 26s\n",
            "418:\tlearn: 0.0446471\ttotal: 8m 57s\tremaining: 12m 25s\n",
            "419:\tlearn: 0.0444957\ttotal: 8m 59s\tremaining: 12m 24s\n",
            "420:\tlearn: 0.0444476\ttotal: 9m\tremaining: 12m 23s\n",
            "421:\tlearn: 0.0443407\ttotal: 9m 2s\tremaining: 12m 23s\n",
            "422:\tlearn: 0.0441748\ttotal: 9m 3s\tremaining: 12m 21s\n",
            "423:\tlearn: 0.0440749\ttotal: 9m 5s\tremaining: 12m 20s\n",
            "424:\tlearn: 0.0439228\ttotal: 9m 6s\tremaining: 12m 18s\n",
            "425:\tlearn: 0.0438317\ttotal: 9m 7s\tremaining: 12m 17s\n",
            "426:\tlearn: 0.0437139\ttotal: 9m 8s\tremaining: 12m 15s\n",
            "427:\tlearn: 0.0435611\ttotal: 9m 9s\tremaining: 12m 14s\n",
            "428:\tlearn: 0.0434681\ttotal: 9m 10s\tremaining: 12m 12s\n",
            "429:\tlearn: 0.0433425\ttotal: 9m 11s\tremaining: 12m 11s\n",
            "430:\tlearn: 0.0432289\ttotal: 9m 12s\tremaining: 12m 9s\n",
            "431:\tlearn: 0.0430494\ttotal: 9m 14s\tremaining: 12m 8s\n",
            "432:\tlearn: 0.0429525\ttotal: 9m 15s\tremaining: 12m 8s\n",
            "433:\tlearn: 0.0428285\ttotal: 9m 17s\tremaining: 12m 7s\n",
            "434:\tlearn: 0.0426822\ttotal: 9m 19s\tremaining: 12m 6s\n",
            "435:\tlearn: 0.0426010\ttotal: 9m 20s\tremaining: 12m 5s\n",
            "436:\tlearn: 0.0424353\ttotal: 9m 21s\tremaining: 12m 3s\n",
            "437:\tlearn: 0.0422703\ttotal: 9m 22s\tremaining: 12m 2s\n",
            "438:\tlearn: 0.0421766\ttotal: 9m 24s\tremaining: 12m\n",
            "439:\tlearn: 0.0420770\ttotal: 9m 25s\tremaining: 11m 59s\n",
            "440:\tlearn: 0.0419683\ttotal: 9m 26s\tremaining: 11m 57s\n",
            "441:\tlearn: 0.0419144\ttotal: 9m 27s\tremaining: 11m 55s\n",
            "442:\tlearn: 0.0418140\ttotal: 9m 28s\tremaining: 11m 54s\n",
            "443:\tlearn: 0.0417138\ttotal: 9m 29s\tremaining: 11m 52s\n",
            "444:\tlearn: 0.0414997\ttotal: 9m 30s\tremaining: 11m 51s\n",
            "445:\tlearn: 0.0413707\ttotal: 9m 32s\tremaining: 11m 50s\n",
            "446:\tlearn: 0.0412461\ttotal: 9m 34s\tremaining: 11m 50s\n",
            "447:\tlearn: 0.0410950\ttotal: 9m 35s\tremaining: 11m 49s\n",
            "448:\tlearn: 0.0410273\ttotal: 9m 37s\tremaining: 11m 48s\n",
            "449:\tlearn: 0.0408720\ttotal: 9m 38s\tremaining: 11m 46s\n",
            "450:\tlearn: 0.0407517\ttotal: 9m 39s\tremaining: 11m 45s\n",
            "451:\tlearn: 0.0406075\ttotal: 9m 40s\tremaining: 11m 43s\n",
            "452:\tlearn: 0.0405242\ttotal: 9m 41s\tremaining: 11m 41s\n",
            "453:\tlearn: 0.0404175\ttotal: 9m 42s\tremaining: 11m 40s\n",
            "454:\tlearn: 0.0403430\ttotal: 9m 43s\tremaining: 11m 38s\n",
            "455:\tlearn: 0.0402015\ttotal: 9m 44s\tremaining: 11m 37s\n",
            "456:\tlearn: 0.0401214\ttotal: 9m 45s\tremaining: 11m 35s\n",
            "457:\tlearn: 0.0399565\ttotal: 9m 46s\tremaining: 11m 34s\n",
            "458:\tlearn: 0.0397901\ttotal: 9m 48s\tremaining: 11m 34s\n",
            "459:\tlearn: 0.0396804\ttotal: 9m 50s\tremaining: 11m 33s\n",
            "460:\tlearn: 0.0395439\ttotal: 9m 52s\tremaining: 11m 32s\n",
            "461:\tlearn: 0.0394475\ttotal: 9m 53s\tremaining: 11m 31s\n",
            "462:\tlearn: 0.0392690\ttotal: 9m 54s\tremaining: 11m 30s\n",
            "463:\tlearn: 0.0390751\ttotal: 9m 56s\tremaining: 11m 28s\n",
            "464:\tlearn: 0.0389881\ttotal: 9m 57s\tremaining: 11m 27s\n",
            "465:\tlearn: 0.0388940\ttotal: 9m 58s\tremaining: 11m 25s\n",
            "466:\tlearn: 0.0387579\ttotal: 9m 59s\tremaining: 11m 23s\n",
            "467:\tlearn: 0.0386886\ttotal: 10m\tremaining: 11m 22s\n",
            "468:\tlearn: 0.0384100\ttotal: 10m 1s\tremaining: 11m 20s\n",
            "469:\tlearn: 0.0383264\ttotal: 10m 2s\tremaining: 11m 19s\n",
            "470:\tlearn: 0.0382791\ttotal: 10m 3s\tremaining: 11m 17s\n",
            "471:\tlearn: 0.0381807\ttotal: 10m 5s\tremaining: 11m 16s\n",
            "472:\tlearn: 0.0380614\ttotal: 10m 6s\tremaining: 11m 16s\n",
            "473:\tlearn: 0.0379446\ttotal: 10m 8s\tremaining: 11m 15s\n",
            "474:\tlearn: 0.0377253\ttotal: 10m 10s\tremaining: 11m 14s\n",
            "475:\tlearn: 0.0375995\ttotal: 10m 11s\tremaining: 11m 13s\n",
            "476:\tlearn: 0.0375101\ttotal: 10m 12s\tremaining: 11m 11s\n",
            "477:\tlearn: 0.0373100\ttotal: 10m 13s\tremaining: 11m 10s\n",
            "478:\tlearn: 0.0372082\ttotal: 10m 14s\tremaining: 11m 8s\n",
            "479:\tlearn: 0.0371446\ttotal: 10m 15s\tremaining: 11m 6s\n",
            "480:\tlearn: 0.0370581\ttotal: 10m 16s\tremaining: 11m 5s\n",
            "481:\tlearn: 0.0369461\ttotal: 10m 17s\tremaining: 11m 3s\n",
            "482:\tlearn: 0.0368789\ttotal: 10m 18s\tremaining: 11m 2s\n",
            "483:\tlearn: 0.0367864\ttotal: 10m 19s\tremaining: 11m\n",
            "484:\tlearn: 0.0366065\ttotal: 10m 21s\tremaining: 10m 59s\n",
            "485:\tlearn: 0.0364310\ttotal: 10m 23s\tremaining: 10m 58s\n",
            "486:\tlearn: 0.0363340\ttotal: 10m 24s\tremaining: 10m 58s\n",
            "487:\tlearn: 0.0362339\ttotal: 10m 26s\tremaining: 10m 57s\n",
            "488:\tlearn: 0.0361841\ttotal: 10m 27s\tremaining: 10m 56s\n",
            "489:\tlearn: 0.0360875\ttotal: 10m 28s\tremaining: 10m 54s\n",
            "490:\tlearn: 0.0359558\ttotal: 10m 30s\tremaining: 10m 53s\n",
            "491:\tlearn: 0.0358156\ttotal: 10m 31s\tremaining: 10m 51s\n",
            "492:\tlearn: 0.0357114\ttotal: 10m 32s\tremaining: 10m 50s\n",
            "493:\tlearn: 0.0356732\ttotal: 10m 33s\tremaining: 10m 48s\n",
            "494:\tlearn: 0.0356076\ttotal: 10m 34s\tremaining: 10m 46s\n",
            "495:\tlearn: 0.0355707\ttotal: 10m 35s\tremaining: 10m 45s\n",
            "496:\tlearn: 0.0355311\ttotal: 10m 36s\tremaining: 10m 43s\n",
            "497:\tlearn: 0.0354897\ttotal: 10m 37s\tremaining: 10m 42s\n",
            "498:\tlearn: 0.0353437\ttotal: 10m 39s\tremaining: 10m 41s\n",
            "499:\tlearn: 0.0351721\ttotal: 10m 41s\tremaining: 10m 41s\n",
            "500:\tlearn: 0.0350978\ttotal: 10m 42s\tremaining: 10m 40s\n",
            "501:\tlearn: 0.0350350\ttotal: 10m 44s\tremaining: 10m 39s\n",
            "502:\tlearn: 0.0349313\ttotal: 10m 45s\tremaining: 10m 37s\n",
            "503:\tlearn: 0.0347540\ttotal: 10m 46s\tremaining: 10m 35s\n",
            "504:\tlearn: 0.0346767\ttotal: 10m 47s\tremaining: 10m 34s\n",
            "505:\tlearn: 0.0346026\ttotal: 10m 48s\tremaining: 10m 32s\n",
            "506:\tlearn: 0.0344040\ttotal: 10m 49s\tremaining: 10m 31s\n",
            "507:\tlearn: 0.0342656\ttotal: 10m 50s\tremaining: 10m 30s\n",
            "508:\tlearn: 0.0341810\ttotal: 10m 51s\tremaining: 10m 28s\n",
            "509:\tlearn: 0.0340596\ttotal: 10m 53s\tremaining: 10m 27s\n",
            "510:\tlearn: 0.0339420\ttotal: 10m 54s\tremaining: 10m 26s\n",
            "511:\tlearn: 0.0338129\ttotal: 10m 56s\tremaining: 10m 25s\n",
            "512:\tlearn: 0.0337282\ttotal: 10m 58s\tremaining: 10m 24s\n",
            "513:\tlearn: 0.0336092\ttotal: 10m 59s\tremaining: 10m 23s\n",
            "514:\tlearn: 0.0335010\ttotal: 11m 1s\tremaining: 10m 22s\n",
            "515:\tlearn: 0.0334400\ttotal: 11m 2s\tremaining: 10m 20s\n",
            "516:\tlearn: 0.0332982\ttotal: 11m 3s\tremaining: 10m 19s\n",
            "517:\tlearn: 0.0332040\ttotal: 11m 4s\tremaining: 10m 17s\n",
            "518:\tlearn: 0.0331254\ttotal: 11m 5s\tremaining: 10m 16s\n",
            "519:\tlearn: 0.0330071\ttotal: 11m 6s\tremaining: 10m 14s\n",
            "520:\tlearn: 0.0329274\ttotal: 11m 7s\tremaining: 10m 13s\n",
            "521:\tlearn: 0.0328127\ttotal: 11m 8s\tremaining: 10m 12s\n",
            "522:\tlearn: 0.0327709\ttotal: 11m 9s\tremaining: 10m 10s\n",
            "523:\tlearn: 0.0327259\ttotal: 11m 10s\tremaining: 10m 9s\n",
            "524:\tlearn: 0.0325918\ttotal: 11m 12s\tremaining: 10m 8s\n",
            "525:\tlearn: 0.0325097\ttotal: 11m 14s\tremaining: 10m 7s\n",
            "526:\tlearn: 0.0324716\ttotal: 11m 16s\tremaining: 10m 6s\n",
            "527:\tlearn: 0.0324408\ttotal: 11m 17s\tremaining: 10m 5s\n",
            "528:\tlearn: 0.0322909\ttotal: 11m 18s\tremaining: 10m 4s\n",
            "529:\tlearn: 0.0322264\ttotal: 11m 19s\tremaining: 10m 2s\n",
            "530:\tlearn: 0.0321116\ttotal: 11m 20s\tremaining: 10m 1s\n",
            "531:\tlearn: 0.0320831\ttotal: 11m 21s\tremaining: 9m 59s\n",
            "532:\tlearn: 0.0320324\ttotal: 11m 22s\tremaining: 9m 57s\n",
            "533:\tlearn: 0.0319647\ttotal: 11m 23s\tremaining: 9m 56s\n",
            "534:\tlearn: 0.0319015\ttotal: 11m 24s\tremaining: 9m 54s\n",
            "535:\tlearn: 0.0318597\ttotal: 11m 25s\tremaining: 9m 53s\n",
            "536:\tlearn: 0.0317633\ttotal: 11m 26s\tremaining: 9m 51s\n",
            "537:\tlearn: 0.0317202\ttotal: 11m 28s\tremaining: 9m 50s\n",
            "538:\tlearn: 0.0316054\ttotal: 11m 29s\tremaining: 9m 49s\n",
            "539:\tlearn: 0.0315186\ttotal: 11m 31s\tremaining: 9m 49s\n",
            "540:\tlearn: 0.0314645\ttotal: 11m 33s\tremaining: 9m 48s\n",
            "541:\tlearn: 0.0313148\ttotal: 11m 34s\tremaining: 9m 46s\n",
            "542:\tlearn: 0.0312239\ttotal: 11m 35s\tremaining: 9m 45s\n",
            "543:\tlearn: 0.0311601\ttotal: 11m 36s\tremaining: 9m 43s\n",
            "544:\tlearn: 0.0310782\ttotal: 11m 37s\tremaining: 9m 42s\n",
            "545:\tlearn: 0.0310362\ttotal: 11m 38s\tremaining: 9m 40s\n",
            "546:\tlearn: 0.0309824\ttotal: 11m 39s\tremaining: 9m 39s\n",
            "547:\tlearn: 0.0308312\ttotal: 11m 40s\tremaining: 9m 37s\n",
            "548:\tlearn: 0.0307525\ttotal: 11m 41s\tremaining: 9m 36s\n",
            "549:\tlearn: 0.0306663\ttotal: 11m 42s\tremaining: 9m 35s\n",
            "550:\tlearn: 0.0306155\ttotal: 11m 44s\tremaining: 9m 33s\n",
            "551:\tlearn: 0.0304930\ttotal: 11m 46s\tremaining: 9m 33s\n",
            "552:\tlearn: 0.0303510\ttotal: 11m 47s\tremaining: 9m 32s\n",
            "553:\tlearn: 0.0302481\ttotal: 11m 49s\tremaining: 9m 31s\n",
            "554:\tlearn: 0.0301238\ttotal: 11m 50s\tremaining: 9m 29s\n",
            "555:\tlearn: 0.0300096\ttotal: 11m 51s\tremaining: 9m 28s\n",
            "556:\tlearn: 0.0298767\ttotal: 11m 52s\tremaining: 9m 26s\n",
            "557:\tlearn: 0.0298157\ttotal: 11m 53s\tremaining: 9m 25s\n",
            "558:\tlearn: 0.0297651\ttotal: 11m 55s\tremaining: 9m 24s\n",
            "559:\tlearn: 0.0297211\ttotal: 11m 55s\tremaining: 9m 22s\n",
            "560:\tlearn: 0.0296658\ttotal: 11m 57s\tremaining: 9m 21s\n",
            "561:\tlearn: 0.0295879\ttotal: 11m 58s\tremaining: 9m 19s\n",
            "562:\tlearn: 0.0294407\ttotal: 11m 59s\tremaining: 9m 18s\n",
            "563:\tlearn: 0.0293606\ttotal: 12m\tremaining: 9m 17s\n",
            "564:\tlearn: 0.0292808\ttotal: 12m 2s\tremaining: 9m 16s\n",
            "565:\tlearn: 0.0291215\ttotal: 12m 4s\tremaining: 9m 15s\n",
            "566:\tlearn: 0.0290321\ttotal: 12m 6s\tremaining: 9m 14s\n",
            "567:\tlearn: 0.0289396\ttotal: 12m 7s\tremaining: 9m 13s\n",
            "568:\tlearn: 0.0288891\ttotal: 12m 8s\tremaining: 9m 11s\n",
            "569:\tlearn: 0.0288524\ttotal: 12m 9s\tremaining: 9m 10s\n",
            "570:\tlearn: 0.0288008\ttotal: 12m 10s\tremaining: 9m 9s\n",
            "571:\tlearn: 0.0287208\ttotal: 12m 11s\tremaining: 9m 7s\n",
            "572:\tlearn: 0.0285731\ttotal: 12m 13s\tremaining: 9m 6s\n",
            "573:\tlearn: 0.0285081\ttotal: 12m 14s\tremaining: 9m 4s\n",
            "574:\tlearn: 0.0284594\ttotal: 12m 15s\tremaining: 9m 3s\n",
            "575:\tlearn: 0.0283862\ttotal: 12m 16s\tremaining: 9m 2s\n",
            "576:\tlearn: 0.0282747\ttotal: 12m 17s\tremaining: 9m\n",
            "577:\tlearn: 0.0281940\ttotal: 12m 19s\tremaining: 9m\n",
            "578:\tlearn: 0.0281280\ttotal: 12m 21s\tremaining: 8m 59s\n",
            "579:\tlearn: 0.0280634\ttotal: 12m 23s\tremaining: 8m 58s\n",
            "580:\tlearn: 0.0279958\ttotal: 12m 24s\tremaining: 8m 57s\n",
            "581:\tlearn: 0.0278599\ttotal: 12m 26s\tremaining: 8m 55s\n",
            "582:\tlearn: 0.0278045\ttotal: 12m 27s\tremaining: 8m 54s\n",
            "583:\tlearn: 0.0276797\ttotal: 12m 28s\tremaining: 8m 53s\n",
            "584:\tlearn: 0.0275811\ttotal: 12m 29s\tremaining: 8m 51s\n",
            "585:\tlearn: 0.0275272\ttotal: 12m 30s\tremaining: 8m 50s\n",
            "586:\tlearn: 0.0274386\ttotal: 12m 31s\tremaining: 8m 48s\n",
            "587:\tlearn: 0.0273599\ttotal: 12m 32s\tremaining: 8m 47s\n",
            "588:\tlearn: 0.0272621\ttotal: 12m 33s\tremaining: 8m 46s\n",
            "589:\tlearn: 0.0271661\ttotal: 12m 35s\tremaining: 8m 45s\n",
            "590:\tlearn: 0.0270198\ttotal: 12m 37s\tremaining: 8m 44s\n",
            "591:\tlearn: 0.0269474\ttotal: 12m 39s\tremaining: 8m 43s\n",
            "592:\tlearn: 0.0268321\ttotal: 12m 40s\tremaining: 8m 42s\n",
            "593:\tlearn: 0.0267441\ttotal: 12m 42s\tremaining: 8m 40s\n",
            "594:\tlearn: 0.0266698\ttotal: 12m 43s\tremaining: 8m 39s\n",
            "595:\tlearn: 0.0266364\ttotal: 12m 44s\tremaining: 8m 37s\n",
            "596:\tlearn: 0.0265623\ttotal: 12m 45s\tremaining: 8m 36s\n",
            "597:\tlearn: 0.0264897\ttotal: 12m 46s\tremaining: 8m 35s\n",
            "598:\tlearn: 0.0263681\ttotal: 12m 47s\tremaining: 8m 33s\n",
            "599:\tlearn: 0.0263244\ttotal: 12m 48s\tremaining: 8m 32s\n",
            "600:\tlearn: 0.0261799\ttotal: 12m 49s\tremaining: 8m 30s\n",
            "601:\tlearn: 0.0260990\ttotal: 12m 50s\tremaining: 8m 29s\n",
            "602:\tlearn: 0.0260422\ttotal: 12m 52s\tremaining: 8m 28s\n",
            "603:\tlearn: 0.0260127\ttotal: 12m 53s\tremaining: 8m 27s\n",
            "604:\tlearn: 0.0259208\ttotal: 12m 55s\tremaining: 8m 26s\n",
            "605:\tlearn: 0.0258622\ttotal: 12m 57s\tremaining: 8m 25s\n",
            "606:\tlearn: 0.0258135\ttotal: 12m 58s\tremaining: 8m 24s\n",
            "607:\tlearn: 0.0257541\ttotal: 12m 59s\tremaining: 8m 22s\n",
            "608:\tlearn: 0.0256666\ttotal: 13m\tremaining: 8m 21s\n",
            "609:\tlearn: 0.0255760\ttotal: 13m 1s\tremaining: 8m 19s\n",
            "610:\tlearn: 0.0255093\ttotal: 13m 2s\tremaining: 8m 18s\n",
            "611:\tlearn: 0.0254519\ttotal: 13m 3s\tremaining: 8m 17s\n",
            "612:\tlearn: 0.0253988\ttotal: 13m 5s\tremaining: 8m 15s\n",
            "613:\tlearn: 0.0253381\ttotal: 13m 6s\tremaining: 8m 14s\n",
            "614:\tlearn: 0.0252712\ttotal: 13m 7s\tremaining: 8m 12s\n",
            "615:\tlearn: 0.0252070\ttotal: 13m 8s\tremaining: 8m 11s\n",
            "616:\tlearn: 0.0251455\ttotal: 13m 10s\tremaining: 8m 10s\n",
            "617:\tlearn: 0.0250744\ttotal: 13m 12s\tremaining: 8m 9s\n",
            "618:\tlearn: 0.0249973\ttotal: 13m 14s\tremaining: 8m 8s\n",
            "619:\tlearn: 0.0249379\ttotal: 13m 15s\tremaining: 8m 7s\n",
            "620:\tlearn: 0.0248440\ttotal: 13m 16s\tremaining: 8m 6s\n",
            "621:\tlearn: 0.0247816\ttotal: 13m 17s\tremaining: 8m 4s\n",
            "622:\tlearn: 0.0246852\ttotal: 13m 18s\tremaining: 8m 3s\n",
            "623:\tlearn: 0.0246464\ttotal: 13m 19s\tremaining: 8m 1s\n",
            "624:\tlearn: 0.0245408\ttotal: 13m 20s\tremaining: 8m\n",
            "625:\tlearn: 0.0245141\ttotal: 13m 22s\tremaining: 7m 59s\n",
            "626:\tlearn: 0.0244434\ttotal: 13m 23s\tremaining: 7m 57s\n",
            "627:\tlearn: 0.0244109\ttotal: 13m 24s\tremaining: 7m 56s\n",
            "628:\tlearn: 0.0243875\ttotal: 13m 25s\tremaining: 7m 55s\n",
            "629:\tlearn: 0.0242846\ttotal: 13m 27s\tremaining: 7m 54s\n",
            "630:\tlearn: 0.0241560\ttotal: 13m 29s\tremaining: 7m 53s\n",
            "631:\tlearn: 0.0241239\ttotal: 13m 31s\tremaining: 7m 52s\n",
            "632:\tlearn: 0.0240244\ttotal: 13m 32s\tremaining: 7m 50s\n",
            "633:\tlearn: 0.0239815\ttotal: 13m 33s\tremaining: 7m 49s\n",
            "634:\tlearn: 0.0239348\ttotal: 13m 34s\tremaining: 7m 48s\n",
            "635:\tlearn: 0.0238870\ttotal: 13m 35s\tremaining: 7m 46s\n",
            "636:\tlearn: 0.0238644\ttotal: 13m 36s\tremaining: 7m 45s\n",
            "637:\tlearn: 0.0238270\ttotal: 13m 37s\tremaining: 7m 44s\n",
            "638:\tlearn: 0.0237459\ttotal: 13m 38s\tremaining: 7m 42s\n",
            "639:\tlearn: 0.0237178\ttotal: 13m 39s\tremaining: 7m 41s\n",
            "640:\tlearn: 0.0236659\ttotal: 13m 41s\tremaining: 7m 39s\n",
            "641:\tlearn: 0.0236365\ttotal: 13m 42s\tremaining: 7m 38s\n",
            "642:\tlearn: 0.0235867\ttotal: 13m 44s\tremaining: 7m 37s\n",
            "643:\tlearn: 0.0235452\ttotal: 13m 46s\tremaining: 7m 36s\n",
            "644:\tlearn: 0.0234889\ttotal: 13m 48s\tremaining: 7m 35s\n",
            "645:\tlearn: 0.0234376\ttotal: 13m 49s\tremaining: 7m 34s\n",
            "646:\tlearn: 0.0233324\ttotal: 13m 50s\tremaining: 7m 33s\n",
            "647:\tlearn: 0.0232913\ttotal: 13m 51s\tremaining: 7m 31s\n",
            "648:\tlearn: 0.0232526\ttotal: 13m 52s\tremaining: 7m 30s\n",
            "649:\tlearn: 0.0232140\ttotal: 13m 53s\tremaining: 7m 29s\n",
            "650:\tlearn: 0.0231669\ttotal: 13m 55s\tremaining: 7m 27s\n",
            "651:\tlearn: 0.0231083\ttotal: 13m 56s\tremaining: 7m 26s\n",
            "652:\tlearn: 0.0230390\ttotal: 13m 57s\tremaining: 7m 24s\n",
            "653:\tlearn: 0.0229889\ttotal: 13m 58s\tremaining: 7m 23s\n",
            "654:\tlearn: 0.0229218\ttotal: 14m\tremaining: 7m 22s\n",
            "655:\tlearn: 0.0228877\ttotal: 14m 2s\tremaining: 7m 21s\n",
            "656:\tlearn: 0.0228427\ttotal: 14m 4s\tremaining: 7m 20s\n",
            "657:\tlearn: 0.0227901\ttotal: 14m 5s\tremaining: 7m 19s\n",
            "658:\tlearn: 0.0227618\ttotal: 14m 6s\tremaining: 7m 17s\n",
            "659:\tlearn: 0.0227234\ttotal: 14m 7s\tremaining: 7m 16s\n",
            "660:\tlearn: 0.0226675\ttotal: 14m 8s\tremaining: 7m 15s\n",
            "661:\tlearn: 0.0226258\ttotal: 14m 9s\tremaining: 7m 13s\n",
            "662:\tlearn: 0.0225915\ttotal: 14m 10s\tremaining: 7m 12s\n",
            "663:\tlearn: 0.0225211\ttotal: 14m 12s\tremaining: 7m 11s\n",
            "664:\tlearn: 0.0224647\ttotal: 14m 13s\tremaining: 7m 9s\n",
            "665:\tlearn: 0.0224045\ttotal: 14m 14s\tremaining: 7m 8s\n",
            "666:\tlearn: 0.0223732\ttotal: 14m 16s\tremaining: 7m 7s\n",
            "667:\tlearn: 0.0223195\ttotal: 14m 18s\tremaining: 7m 6s\n",
            "668:\tlearn: 0.0222756\ttotal: 14m 20s\tremaining: 7m 5s\n",
            "669:\tlearn: 0.0222115\ttotal: 14m 21s\tremaining: 7m 4s\n",
            "670:\tlearn: 0.0221439\ttotal: 14m 22s\tremaining: 7m 3s\n",
            "671:\tlearn: 0.0220373\ttotal: 14m 24s\tremaining: 7m 1s\n",
            "672:\tlearn: 0.0219828\ttotal: 14m 25s\tremaining: 7m\n",
            "673:\tlearn: 0.0219356\ttotal: 14m 26s\tremaining: 6m 59s\n",
            "674:\tlearn: 0.0218780\ttotal: 14m 27s\tremaining: 6m 57s\n",
            "675:\tlearn: 0.0218078\ttotal: 14m 28s\tremaining: 6m 56s\n",
            "676:\tlearn: 0.0217877\ttotal: 14m 30s\tremaining: 6m 55s\n",
            "677:\tlearn: 0.0217160\ttotal: 14m 31s\tremaining: 6m 53s\n",
            "678:\tlearn: 0.0216745\ttotal: 14m 33s\tremaining: 6m 52s\n",
            "679:\tlearn: 0.0216074\ttotal: 14m 35s\tremaining: 6m 51s\n",
            "680:\tlearn: 0.0215384\ttotal: 14m 36s\tremaining: 6m 50s\n",
            "681:\tlearn: 0.0214786\ttotal: 14m 38s\tremaining: 6m 49s\n",
            "682:\tlearn: 0.0214469\ttotal: 14m 39s\tremaining: 6m 48s\n",
            "683:\tlearn: 0.0213862\ttotal: 14m 40s\tremaining: 6m 46s\n",
            "684:\tlearn: 0.0213382\ttotal: 14m 41s\tremaining: 6m 45s\n",
            "685:\tlearn: 0.0213055\ttotal: 14m 42s\tremaining: 6m 44s\n",
            "686:\tlearn: 0.0212132\ttotal: 14m 44s\tremaining: 6m 42s\n",
            "687:\tlearn: 0.0211838\ttotal: 14m 45s\tremaining: 6m 41s\n",
            "688:\tlearn: 0.0211179\ttotal: 14m 46s\tremaining: 6m 40s\n",
            "689:\tlearn: 0.0210514\ttotal: 14m 47s\tremaining: 6m 38s\n",
            "690:\tlearn: 0.0210174\ttotal: 14m 48s\tremaining: 6m 37s\n",
            "691:\tlearn: 0.0209779\ttotal: 14m 50s\tremaining: 6m 36s\n",
            "692:\tlearn: 0.0209188\ttotal: 14m 52s\tremaining: 6m 35s\n",
            "693:\tlearn: 0.0208655\ttotal: 14m 54s\tremaining: 6m 34s\n",
            "694:\tlearn: 0.0208451\ttotal: 14m 55s\tremaining: 6m 32s\n",
            "695:\tlearn: 0.0208013\ttotal: 14m 56s\tremaining: 6m 31s\n",
            "696:\tlearn: 0.0207447\ttotal: 14m 57s\tremaining: 6m 30s\n",
            "697:\tlearn: 0.0207278\ttotal: 14m 58s\tremaining: 6m 28s\n",
            "698:\tlearn: 0.0206535\ttotal: 14m 59s\tremaining: 6m 27s\n",
            "699:\tlearn: 0.0205976\ttotal: 15m\tremaining: 6m 26s\n",
            "700:\tlearn: 0.0205611\ttotal: 15m 1s\tremaining: 6m 24s\n",
            "701:\tlearn: 0.0205027\ttotal: 15m 2s\tremaining: 6m 23s\n",
            "702:\tlearn: 0.0204022\ttotal: 15m 4s\tremaining: 6m 21s\n",
            "703:\tlearn: 0.0203650\ttotal: 15m 5s\tremaining: 6m 20s\n",
            "704:\tlearn: 0.0203187\ttotal: 15m 7s\tremaining: 6m 19s\n",
            "705:\tlearn: 0.0202657\ttotal: 15m 8s\tremaining: 6m 18s\n",
            "706:\tlearn: 0.0202031\ttotal: 15m 10s\tremaining: 6m 17s\n",
            "707:\tlearn: 0.0201638\ttotal: 15m 12s\tremaining: 6m 16s\n",
            "708:\tlearn: 0.0201287\ttotal: 15m 13s\tremaining: 6m 14s\n",
            "709:\tlearn: 0.0200691\ttotal: 15m 14s\tremaining: 6m 13s\n",
            "710:\tlearn: 0.0200439\ttotal: 15m 15s\tremaining: 6m 12s\n",
            "711:\tlearn: 0.0200198\ttotal: 15m 16s\tremaining: 6m 10s\n",
            "712:\tlearn: 0.0199505\ttotal: 15m 17s\tremaining: 6m 9s\n",
            "713:\tlearn: 0.0198893\ttotal: 15m 18s\tremaining: 6m 7s\n",
            "714:\tlearn: 0.0198507\ttotal: 15m 19s\tremaining: 6m 6s\n",
            "715:\tlearn: 0.0198175\ttotal: 15m 20s\tremaining: 6m 5s\n",
            "716:\tlearn: 0.0197881\ttotal: 15m 21s\tremaining: 6m 3s\n",
            "717:\tlearn: 0.0197340\ttotal: 15m 23s\tremaining: 6m 2s\n",
            "718:\tlearn: 0.0196979\ttotal: 15m 25s\tremaining: 6m 1s\n",
            "719:\tlearn: 0.0196321\ttotal: 15m 27s\tremaining: 6m\n",
            "720:\tlearn: 0.0196015\ttotal: 15m 28s\tremaining: 5m 59s\n",
            "721:\tlearn: 0.0195697\ttotal: 15m 29s\tremaining: 5m 58s\n",
            "722:\tlearn: 0.0195280\ttotal: 15m 30s\tremaining: 5m 56s\n",
            "723:\tlearn: 0.0195112\ttotal: 15m 31s\tremaining: 5m 55s\n",
            "724:\tlearn: 0.0194324\ttotal: 15m 32s\tremaining: 5m 53s\n",
            "725:\tlearn: 0.0193931\ttotal: 15m 34s\tremaining: 5m 52s\n",
            "726:\tlearn: 0.0193521\ttotal: 15m 35s\tremaining: 5m 51s\n",
            "727:\tlearn: 0.0193089\ttotal: 15m 36s\tremaining: 5m 49s\n",
            "728:\tlearn: 0.0192708\ttotal: 15m 37s\tremaining: 5m 48s\n",
            "729:\tlearn: 0.0192378\ttotal: 15m 38s\tremaining: 5m 47s\n",
            "730:\tlearn: 0.0192150\ttotal: 15m 40s\tremaining: 5m 45s\n",
            "731:\tlearn: 0.0191754\ttotal: 15m 41s\tremaining: 5m 44s\n",
            "732:\tlearn: 0.0191381\ttotal: 15m 43s\tremaining: 5m 43s\n",
            "733:\tlearn: 0.0190942\ttotal: 15m 45s\tremaining: 5m 42s\n",
            "734:\tlearn: 0.0190525\ttotal: 15m 46s\tremaining: 5m 41s\n",
            "735:\tlearn: 0.0189806\ttotal: 15m 47s\tremaining: 5m 39s\n",
            "736:\tlearn: 0.0189457\ttotal: 15m 48s\tremaining: 5m 38s\n",
            "737:\tlearn: 0.0189226\ttotal: 15m 49s\tremaining: 5m 37s\n",
            "738:\tlearn: 0.0188891\ttotal: 15m 50s\tremaining: 5m 35s\n",
            "739:\tlearn: 0.0188266\ttotal: 15m 51s\tremaining: 5m 34s\n",
            "740:\tlearn: 0.0187935\ttotal: 15m 52s\tremaining: 5m 33s\n",
            "741:\tlearn: 0.0187481\ttotal: 15m 53s\tremaining: 5m 31s\n",
            "742:\tlearn: 0.0186918\ttotal: 15m 54s\tremaining: 5m 30s\n",
            "743:\tlearn: 0.0186600\ttotal: 15m 56s\tremaining: 5m 29s\n",
            "744:\tlearn: 0.0186291\ttotal: 15m 58s\tremaining: 5m 28s\n",
            "745:\tlearn: 0.0185941\ttotal: 16m\tremaining: 5m 26s\n",
            "746:\tlearn: 0.0185511\ttotal: 16m 1s\tremaining: 5m 25s\n",
            "747:\tlearn: 0.0185277\ttotal: 16m 2s\tremaining: 5m 24s\n",
            "748:\tlearn: 0.0184954\ttotal: 16m 3s\tremaining: 5m 23s\n",
            "749:\tlearn: 0.0184632\ttotal: 16m 5s\tremaining: 5m 21s\n",
            "750:\tlearn: 0.0184387\ttotal: 16m 6s\tremaining: 5m 20s\n",
            "751:\tlearn: 0.0184152\ttotal: 16m 7s\tremaining: 5m 18s\n",
            "752:\tlearn: 0.0184014\ttotal: 16m 8s\tremaining: 5m 17s\n",
            "753:\tlearn: 0.0183704\ttotal: 16m 9s\tremaining: 5m 16s\n",
            "754:\tlearn: 0.0183327\ttotal: 16m 10s\tremaining: 5m 14s\n",
            "755:\tlearn: 0.0182936\ttotal: 16m 11s\tremaining: 5m 13s\n",
            "756:\tlearn: 0.0182641\ttotal: 16m 12s\tremaining: 5m 12s\n",
            "757:\tlearn: 0.0182367\ttotal: 16m 14s\tremaining: 5m 11s\n",
            "758:\tlearn: 0.0181989\ttotal: 16m 16s\tremaining: 5m 9s\n",
            "759:\tlearn: 0.0181716\ttotal: 16m 17s\tremaining: 5m 8s\n",
            "760:\tlearn: 0.0181443\ttotal: 16m 19s\tremaining: 5m 7s\n",
            "761:\tlearn: 0.0180768\ttotal: 16m 20s\tremaining: 5m 6s\n",
            "762:\tlearn: 0.0180502\ttotal: 16m 21s\tremaining: 5m 4s\n",
            "763:\tlearn: 0.0180442\ttotal: 16m 22s\tremaining: 5m 3s\n",
            "764:\tlearn: 0.0179960\ttotal: 16m 23s\tremaining: 5m 2s\n",
            "765:\tlearn: 0.0179827\ttotal: 16m 24s\tremaining: 5m\n",
            "766:\tlearn: 0.0179544\ttotal: 16m 25s\tremaining: 4m 59s\n",
            "767:\tlearn: 0.0179020\ttotal: 16m 26s\tremaining: 4m 57s\n",
            "768:\tlearn: 0.0178599\ttotal: 16m 27s\tremaining: 4m 56s\n",
            "769:\tlearn: 0.0178234\ttotal: 16m 28s\tremaining: 4m 55s\n",
            "770:\tlearn: 0.0178096\ttotal: 16m 29s\tremaining: 4m 53s\n",
            "771:\tlearn: 0.0177608\ttotal: 16m 31s\tremaining: 4m 52s\n",
            "772:\tlearn: 0.0177117\ttotal: 16m 33s\tremaining: 4m 51s\n",
            "773:\tlearn: 0.0176735\ttotal: 16m 35s\tremaining: 4m 50s\n",
            "774:\tlearn: 0.0176427\ttotal: 16m 36s\tremaining: 4m 49s\n",
            "775:\tlearn: 0.0176106\ttotal: 16m 37s\tremaining: 4m 47s\n",
            "776:\tlearn: 0.0175769\ttotal: 16m 38s\tremaining: 4m 46s\n",
            "777:\tlearn: 0.0175621\ttotal: 16m 39s\tremaining: 4m 45s\n",
            "778:\tlearn: 0.0175009\ttotal: 16m 40s\tremaining: 4m 43s\n",
            "779:\tlearn: 0.0174740\ttotal: 16m 41s\tremaining: 4m 42s\n",
            "780:\tlearn: 0.0174275\ttotal: 16m 42s\tremaining: 4m 41s\n",
            "781:\tlearn: 0.0174033\ttotal: 16m 43s\tremaining: 4m 39s\n",
            "782:\tlearn: 0.0173211\ttotal: 16m 44s\tremaining: 4m 38s\n",
            "783:\tlearn: 0.0172929\ttotal: 16m 45s\tremaining: 4m 37s\n",
            "784:\tlearn: 0.0172615\ttotal: 16m 47s\tremaining: 4m 36s\n",
            "785:\tlearn: 0.0172317\ttotal: 16m 49s\tremaining: 4m 34s\n",
            "786:\tlearn: 0.0172054\ttotal: 16m 51s\tremaining: 4m 33s\n",
            "787:\tlearn: 0.0171843\ttotal: 16m 52s\tremaining: 4m 32s\n",
            "788:\tlearn: 0.0171581\ttotal: 16m 53s\tremaining: 4m 31s\n",
            "789:\tlearn: 0.0171218\ttotal: 16m 54s\tremaining: 4m 29s\n",
            "790:\tlearn: 0.0170942\ttotal: 16m 55s\tremaining: 4m 28s\n",
            "791:\tlearn: 0.0170784\ttotal: 16m 56s\tremaining: 4m 26s\n",
            "792:\tlearn: 0.0170536\ttotal: 16m 57s\tremaining: 4m 25s\n",
            "793:\tlearn: 0.0170438\ttotal: 16m 58s\tremaining: 4m 24s\n",
            "794:\tlearn: 0.0170078\ttotal: 16m 59s\tremaining: 4m 22s\n",
            "795:\tlearn: 0.0169850\ttotal: 17m\tremaining: 4m 21s\n",
            "796:\tlearn: 0.0169697\ttotal: 17m 1s\tremaining: 4m 20s\n",
            "797:\tlearn: 0.0169469\ttotal: 17m 3s\tremaining: 4m 19s\n",
            "798:\tlearn: 0.0169161\ttotal: 17m 5s\tremaining: 4m 17s\n",
            "799:\tlearn: 0.0168881\ttotal: 17m 6s\tremaining: 4m 16s\n",
            "800:\tlearn: 0.0168464\ttotal: 17m 8s\tremaining: 4m 15s\n",
            "801:\tlearn: 0.0168182\ttotal: 17m 9s\tremaining: 4m 14s\n",
            "802:\tlearn: 0.0167695\ttotal: 17m 10s\tremaining: 4m 12s\n",
            "803:\tlearn: 0.0167471\ttotal: 17m 11s\tremaining: 4m 11s\n",
            "804:\tlearn: 0.0167352\ttotal: 17m 12s\tremaining: 4m 10s\n",
            "805:\tlearn: 0.0167028\ttotal: 17m 13s\tremaining: 4m 8s\n",
            "806:\tlearn: 0.0166559\ttotal: 17m 14s\tremaining: 4m 7s\n",
            "807:\tlearn: 0.0166340\ttotal: 17m 15s\tremaining: 4m 6s\n",
            "808:\tlearn: 0.0166086\ttotal: 17m 16s\tremaining: 4m 4s\n",
            "809:\tlearn: 0.0165948\ttotal: 17m 17s\tremaining: 4m 3s\n",
            "810:\tlearn: 0.0165490\ttotal: 17m 19s\tremaining: 4m 2s\n",
            "811:\tlearn: 0.0164964\ttotal: 17m 20s\tremaining: 4m 1s\n",
            "812:\tlearn: 0.0164676\ttotal: 17m 22s\tremaining: 3m 59s\n",
            "813:\tlearn: 0.0164367\ttotal: 17m 24s\tremaining: 3m 58s\n",
            "814:\tlearn: 0.0164057\ttotal: 17m 26s\tremaining: 3m 57s\n",
            "815:\tlearn: 0.0163750\ttotal: 17m 27s\tremaining: 3m 56s\n",
            "816:\tlearn: 0.0163525\ttotal: 17m 28s\tremaining: 3m 54s\n",
            "817:\tlearn: 0.0163202\ttotal: 17m 29s\tremaining: 3m 53s\n",
            "818:\tlearn: 0.0163060\ttotal: 17m 30s\tremaining: 3m 52s\n",
            "819:\tlearn: 0.0162837\ttotal: 17m 31s\tremaining: 3m 50s\n",
            "820:\tlearn: 0.0162460\ttotal: 17m 32s\tremaining: 3m 49s\n",
            "821:\tlearn: 0.0162088\ttotal: 17m 33s\tremaining: 3m 48s\n",
            "822:\tlearn: 0.0161671\ttotal: 17m 34s\tremaining: 3m 46s\n",
            "823:\tlearn: 0.0161500\ttotal: 17m 35s\tremaining: 3m 45s\n",
            "824:\tlearn: 0.0160975\ttotal: 17m 37s\tremaining: 3m 44s\n",
            "825:\tlearn: 0.0160688\ttotal: 17m 38s\tremaining: 3m 43s\n",
            "826:\tlearn: 0.0160400\ttotal: 17m 40s\tremaining: 3m 41s\n",
            "827:\tlearn: 0.0160209\ttotal: 17m 42s\tremaining: 3m 40s\n",
            "828:\tlearn: 0.0159764\ttotal: 17m 43s\tremaining: 3m 39s\n",
            "829:\tlearn: 0.0159440\ttotal: 17m 44s\tremaining: 3m 37s\n",
            "830:\tlearn: 0.0159219\ttotal: 17m 45s\tremaining: 3m 36s\n",
            "831:\tlearn: 0.0158788\ttotal: 17m 46s\tremaining: 3m 35s\n",
            "832:\tlearn: 0.0158485\ttotal: 17m 47s\tremaining: 3m 33s\n",
            "833:\tlearn: 0.0158110\ttotal: 17m 48s\tremaining: 3m 32s\n",
            "834:\tlearn: 0.0157807\ttotal: 17m 49s\tremaining: 3m 31s\n",
            "835:\tlearn: 0.0157477\ttotal: 17m 50s\tremaining: 3m 30s\n",
            "836:\tlearn: 0.0157099\ttotal: 17m 51s\tremaining: 3m 28s\n",
            "837:\tlearn: 0.0156867\ttotal: 17m 52s\tremaining: 3m 27s\n",
            "838:\tlearn: 0.0156705\ttotal: 17m 54s\tremaining: 3m 26s\n",
            "839:\tlearn: 0.0156608\ttotal: 17m 56s\tremaining: 3m 24s\n",
            "840:\tlearn: 0.0156331\ttotal: 17m 57s\tremaining: 3m 23s\n",
            "841:\tlearn: 0.0156203\ttotal: 17m 59s\tremaining: 3m 22s\n",
            "842:\tlearn: 0.0155768\ttotal: 18m\tremaining: 3m 21s\n",
            "843:\tlearn: 0.0155390\ttotal: 18m 1s\tremaining: 3m 19s\n",
            "844:\tlearn: 0.0155019\ttotal: 18m 2s\tremaining: 3m 18s\n",
            "845:\tlearn: 0.0154716\ttotal: 18m 3s\tremaining: 3m 17s\n",
            "846:\tlearn: 0.0154525\ttotal: 18m 4s\tremaining: 3m 15s\n",
            "847:\tlearn: 0.0154220\ttotal: 18m 5s\tremaining: 3m 14s\n",
            "848:\tlearn: 0.0153923\ttotal: 18m 6s\tremaining: 3m 13s\n",
            "849:\tlearn: 0.0153698\ttotal: 18m 7s\tremaining: 3m 11s\n",
            "850:\tlearn: 0.0153529\ttotal: 18m 8s\tremaining: 3m 10s\n",
            "851:\tlearn: 0.0153316\ttotal: 18m 10s\tremaining: 3m 9s\n",
            "852:\tlearn: 0.0152811\ttotal: 18m 12s\tremaining: 3m 8s\n",
            "853:\tlearn: 0.0152550\ttotal: 18m 14s\tremaining: 3m 7s\n",
            "854:\tlearn: 0.0152276\ttotal: 18m 15s\tremaining: 3m 5s\n",
            "855:\tlearn: 0.0152122\ttotal: 18m 16s\tremaining: 3m 4s\n",
            "856:\tlearn: 0.0151668\ttotal: 18m 17s\tremaining: 3m 3s\n",
            "857:\tlearn: 0.0151528\ttotal: 18m 18s\tremaining: 3m 1s\n",
            "858:\tlearn: 0.0151334\ttotal: 18m 19s\tremaining: 3m\n",
            "859:\tlearn: 0.0151038\ttotal: 18m 20s\tremaining: 2m 59s\n",
            "860:\tlearn: 0.0150869\ttotal: 18m 22s\tremaining: 2m 57s\n",
            "861:\tlearn: 0.0150724\ttotal: 18m 23s\tremaining: 2m 56s\n",
            "862:\tlearn: 0.0150492\ttotal: 18m 24s\tremaining: 2m 55s\n",
            "863:\tlearn: 0.0150194\ttotal: 18m 25s\tremaining: 2m 53s\n",
            "864:\tlearn: 0.0149942\ttotal: 18m 26s\tremaining: 2m 52s\n",
            "865:\tlearn: 0.0149858\ttotal: 18m 28s\tremaining: 2m 51s\n",
            "866:\tlearn: 0.0149610\ttotal: 18m 29s\tremaining: 2m 50s\n",
            "867:\tlearn: 0.0149396\ttotal: 18m 31s\tremaining: 2m 49s\n",
            "868:\tlearn: 0.0149148\ttotal: 18m 32s\tremaining: 2m 47s\n",
            "869:\tlearn: 0.0148916\ttotal: 18m 33s\tremaining: 2m 46s\n",
            "870:\tlearn: 0.0148706\ttotal: 18m 35s\tremaining: 2m 45s\n",
            "871:\tlearn: 0.0148511\ttotal: 18m 36s\tremaining: 2m 43s\n",
            "872:\tlearn: 0.0148303\ttotal: 18m 37s\tremaining: 2m 42s\n",
            "873:\tlearn: 0.0148094\ttotal: 18m 38s\tremaining: 2m 41s\n",
            "874:\tlearn: 0.0147726\ttotal: 18m 39s\tremaining: 2m 39s\n",
            "875:\tlearn: 0.0147648\ttotal: 18m 40s\tremaining: 2m 38s\n",
            "876:\tlearn: 0.0147356\ttotal: 18m 41s\tremaining: 2m 37s\n",
            "877:\tlearn: 0.0147251\ttotal: 18m 42s\tremaining: 2m 35s\n",
            "878:\tlearn: 0.0147031\ttotal: 18m 43s\tremaining: 2m 34s\n",
            "879:\tlearn: 0.0146818\ttotal: 18m 45s\tremaining: 2m 33s\n",
            "880:\tlearn: 0.0146646\ttotal: 18m 47s\tremaining: 2m 32s\n",
            "881:\tlearn: 0.0146455\ttotal: 18m 49s\tremaining: 2m 31s\n",
            "882:\tlearn: 0.0146047\ttotal: 18m 50s\tremaining: 2m 29s\n",
            "883:\tlearn: 0.0145811\ttotal: 18m 51s\tremaining: 2m 28s\n",
            "884:\tlearn: 0.0145475\ttotal: 18m 52s\tremaining: 2m 27s\n",
            "885:\tlearn: 0.0145180\ttotal: 18m 53s\tremaining: 2m 25s\n",
            "886:\tlearn: 0.0144821\ttotal: 18m 54s\tremaining: 2m 24s\n",
            "887:\tlearn: 0.0144515\ttotal: 18m 55s\tremaining: 2m 23s\n",
            "888:\tlearn: 0.0144308\ttotal: 18m 56s\tremaining: 2m 21s\n",
            "889:\tlearn: 0.0144038\ttotal: 18m 57s\tremaining: 2m 20s\n",
            "890:\tlearn: 0.0143874\ttotal: 18m 58s\tremaining: 2m 19s\n",
            "891:\tlearn: 0.0143374\ttotal: 19m\tremaining: 2m 18s\n",
            "892:\tlearn: 0.0143057\ttotal: 19m 1s\tremaining: 2m 16s\n",
            "893:\tlearn: 0.0142978\ttotal: 19m 3s\tremaining: 2m 15s\n",
            "894:\tlearn: 0.0142752\ttotal: 19m 5s\tremaining: 2m 14s\n",
            "895:\tlearn: 0.0142540\ttotal: 19m 6s\tremaining: 2m 13s\n",
            "896:\tlearn: 0.0142259\ttotal: 19m 7s\tremaining: 2m 11s\n",
            "897:\tlearn: 0.0141922\ttotal: 19m 8s\tremaining: 2m 10s\n",
            "898:\tlearn: 0.0141601\ttotal: 19m 9s\tremaining: 2m 9s\n",
            "899:\tlearn: 0.0141260\ttotal: 19m 10s\tremaining: 2m 7s\n",
            "900:\tlearn: 0.0141102\ttotal: 19m 11s\tremaining: 2m 6s\n",
            "901:\tlearn: 0.0140950\ttotal: 19m 13s\tremaining: 2m 5s\n",
            "902:\tlearn: 0.0140665\ttotal: 19m 14s\tremaining: 2m 3s\n",
            "903:\tlearn: 0.0140412\ttotal: 19m 15s\tremaining: 2m 2s\n",
            "904:\tlearn: 0.0140170\ttotal: 19m 16s\tremaining: 2m 1s\n",
            "905:\tlearn: 0.0139975\ttotal: 19m 18s\tremaining: 2m\n",
            "906:\tlearn: 0.0139767\ttotal: 19m 19s\tremaining: 1m 58s\n",
            "907:\tlearn: 0.0139558\ttotal: 19m 21s\tremaining: 1m 57s\n",
            "908:\tlearn: 0.0139405\ttotal: 19m 23s\tremaining: 1m 56s\n",
            "909:\tlearn: 0.0139139\ttotal: 19m 24s\tremaining: 1m 55s\n",
            "910:\tlearn: 0.0138958\ttotal: 19m 25s\tremaining: 1m 53s\n",
            "911:\tlearn: 0.0138750\ttotal: 19m 26s\tremaining: 1m 52s\n",
            "912:\tlearn: 0.0138448\ttotal: 19m 27s\tremaining: 1m 51s\n",
            "913:\tlearn: 0.0138123\ttotal: 19m 28s\tremaining: 1m 49s\n",
            "914:\tlearn: 0.0138024\ttotal: 19m 29s\tremaining: 1m 48s\n",
            "915:\tlearn: 0.0137867\ttotal: 19m 30s\tremaining: 1m 47s\n",
            "916:\tlearn: 0.0137430\ttotal: 19m 31s\tremaining: 1m 46s\n",
            "917:\tlearn: 0.0137170\ttotal: 19m 32s\tremaining: 1m 44s\n",
            "918:\tlearn: 0.0136912\ttotal: 19m 34s\tremaining: 1m 43s\n",
            "919:\tlearn: 0.0136592\ttotal: 19m 36s\tremaining: 1m 42s\n",
            "920:\tlearn: 0.0136371\ttotal: 19m 37s\tremaining: 1m 41s\n",
            "921:\tlearn: 0.0136107\ttotal: 19m 39s\tremaining: 1m 39s\n",
            "922:\tlearn: 0.0135810\ttotal: 19m 40s\tremaining: 1m 38s\n",
            "923:\tlearn: 0.0135544\ttotal: 19m 41s\tremaining: 1m 37s\n",
            "924:\tlearn: 0.0135218\ttotal: 19m 42s\tremaining: 1m 35s\n",
            "925:\tlearn: 0.0135038\ttotal: 19m 43s\tremaining: 1m 34s\n",
            "926:\tlearn: 0.0134854\ttotal: 19m 44s\tremaining: 1m 33s\n",
            "927:\tlearn: 0.0134666\ttotal: 19m 45s\tremaining: 1m 31s\n",
            "928:\tlearn: 0.0134345\ttotal: 19m 46s\tremaining: 1m 30s\n",
            "929:\tlearn: 0.0134129\ttotal: 19m 47s\tremaining: 1m 29s\n",
            "930:\tlearn: 0.0134029\ttotal: 19m 48s\tremaining: 1m 28s\n",
            "931:\tlearn: 0.0133922\ttotal: 19m 50s\tremaining: 1m 26s\n",
            "932:\tlearn: 0.0133677\ttotal: 19m 51s\tremaining: 1m 25s\n",
            "933:\tlearn: 0.0133247\ttotal: 19m 53s\tremaining: 1m 24s\n",
            "934:\tlearn: 0.0132916\ttotal: 19m 55s\tremaining: 1m 23s\n",
            "935:\tlearn: 0.0132673\ttotal: 19m 56s\tremaining: 1m 21s\n",
            "936:\tlearn: 0.0132518\ttotal: 19m 57s\tremaining: 1m 20s\n",
            "937:\tlearn: 0.0132281\ttotal: 19m 58s\tremaining: 1m 19s\n",
            "938:\tlearn: 0.0131932\ttotal: 19m 59s\tremaining: 1m 17s\n",
            "939:\tlearn: 0.0131713\ttotal: 20m\tremaining: 1m 16s\n",
            "940:\tlearn: 0.0131613\ttotal: 20m 1s\tremaining: 1m 15s\n",
            "941:\tlearn: 0.0131547\ttotal: 20m 2s\tremaining: 1m 14s\n",
            "942:\tlearn: 0.0131346\ttotal: 20m 3s\tremaining: 1m 12s\n",
            "943:\tlearn: 0.0131166\ttotal: 20m 4s\tremaining: 1m 11s\n",
            "944:\tlearn: 0.0130904\ttotal: 20m 5s\tremaining: 1m 10s\n",
            "945:\tlearn: 0.0130595\ttotal: 20m 7s\tremaining: 1m 8s\n",
            "946:\tlearn: 0.0130292\ttotal: 20m 9s\tremaining: 1m 7s\n",
            "947:\tlearn: 0.0130066\ttotal: 20m 11s\tremaining: 1m 6s\n",
            "948:\tlearn: 0.0129802\ttotal: 20m 12s\tremaining: 1m 5s\n",
            "949:\tlearn: 0.0129474\ttotal: 20m 13s\tremaining: 1m 3s\n",
            "950:\tlearn: 0.0129392\ttotal: 20m 14s\tremaining: 1m 2s\n",
            "951:\tlearn: 0.0129228\ttotal: 20m 16s\tremaining: 1m 1s\n",
            "952:\tlearn: 0.0128851\ttotal: 20m 17s\tremaining: 1m\n",
            "953:\tlearn: 0.0128797\ttotal: 20m 18s\tremaining: 58.7s\n",
            "954:\tlearn: 0.0128628\ttotal: 20m 19s\tremaining: 57.5s\n",
            "955:\tlearn: 0.0128379\ttotal: 20m 20s\tremaining: 56.2s\n",
            "956:\tlearn: 0.0127996\ttotal: 20m 21s\tremaining: 54.9s\n",
            "957:\tlearn: 0.0127800\ttotal: 20m 23s\tremaining: 53.6s\n",
            "958:\tlearn: 0.0127664\ttotal: 20m 25s\tremaining: 52.4s\n",
            "959:\tlearn: 0.0127416\ttotal: 20m 26s\tremaining: 51.1s\n",
            "960:\tlearn: 0.0127282\ttotal: 20m 28s\tremaining: 49.9s\n",
            "961:\tlearn: 0.0127132\ttotal: 20m 29s\tremaining: 48.6s\n",
            "962:\tlearn: 0.0126866\ttotal: 20m 30s\tremaining: 47.3s\n",
            "963:\tlearn: 0.0126575\ttotal: 20m 31s\tremaining: 46s\n",
            "964:\tlearn: 0.0126381\ttotal: 20m 33s\tremaining: 44.7s\n",
            "965:\tlearn: 0.0126037\ttotal: 20m 34s\tremaining: 43.4s\n",
            "966:\tlearn: 0.0125827\ttotal: 20m 35s\tremaining: 42.2s\n",
            "967:\tlearn: 0.0125637\ttotal: 20m 36s\tremaining: 40.9s\n",
            "968:\tlearn: 0.0125403\ttotal: 20m 37s\tremaining: 39.6s\n",
            "969:\tlearn: 0.0125116\ttotal: 20m 38s\tremaining: 38.3s\n",
            "970:\tlearn: 0.0124856\ttotal: 20m 40s\tremaining: 37s\n",
            "971:\tlearn: 0.0124703\ttotal: 20m 42s\tremaining: 35.8s\n",
            "972:\tlearn: 0.0124551\ttotal: 20m 44s\tremaining: 34.5s\n",
            "973:\tlearn: 0.0124345\ttotal: 20m 45s\tremaining: 33.3s\n",
            "974:\tlearn: 0.0124131\ttotal: 20m 46s\tremaining: 32s\n",
            "975:\tlearn: 0.0123970\ttotal: 20m 47s\tremaining: 30.7s\n",
            "976:\tlearn: 0.0123771\ttotal: 20m 48s\tremaining: 29.4s\n",
            "977:\tlearn: 0.0123555\ttotal: 20m 50s\tremaining: 28.1s\n",
            "978:\tlearn: 0.0123420\ttotal: 20m 51s\tremaining: 26.8s\n",
            "979:\tlearn: 0.0123244\ttotal: 20m 52s\tremaining: 25.6s\n",
            "980:\tlearn: 0.0123066\ttotal: 20m 53s\tremaining: 24.3s\n",
            "981:\tlearn: 0.0122933\ttotal: 20m 54s\tremaining: 23s\n",
            "982:\tlearn: 0.0122764\ttotal: 20m 55s\tremaining: 21.7s\n",
            "983:\tlearn: 0.0122389\ttotal: 20m 57s\tremaining: 20.4s\n",
            "984:\tlearn: 0.0122239\ttotal: 20m 59s\tremaining: 19.2s\n",
            "985:\tlearn: 0.0122034\ttotal: 21m\tremaining: 17.9s\n",
            "986:\tlearn: 0.0121865\ttotal: 21m 2s\tremaining: 16.6s\n",
            "987:\tlearn: 0.0121724\ttotal: 21m 3s\tremaining: 15.3s\n",
            "988:\tlearn: 0.0121578\ttotal: 21m 4s\tremaining: 14.1s\n",
            "989:\tlearn: 0.0121457\ttotal: 21m 5s\tremaining: 12.8s\n",
            "990:\tlearn: 0.0121233\ttotal: 21m 6s\tremaining: 11.5s\n",
            "991:\tlearn: 0.0120905\ttotal: 21m 7s\tremaining: 10.2s\n",
            "992:\tlearn: 0.0120810\ttotal: 21m 8s\tremaining: 8.94s\n",
            "993:\tlearn: 0.0120557\ttotal: 21m 9s\tremaining: 7.66s\n",
            "994:\tlearn: 0.0120400\ttotal: 21m 10s\tremaining: 6.38s\n",
            "995:\tlearn: 0.0120201\ttotal: 21m 11s\tremaining: 5.11s\n",
            "996:\tlearn: 0.0119938\ttotal: 21m 13s\tremaining: 3.83s\n",
            "997:\tlearn: 0.0119680\ttotal: 21m 15s\tremaining: 2.56s\n",
            "998:\tlearn: 0.0119477\ttotal: 21m 17s\tremaining: 1.28s\n",
            "999:\tlearn: 0.0119191\ttotal: 21m 18s\tremaining: 0us\n"
          ]
        },
        {
          "output_type": "execute_result",
          "data": {
            "text/plain": [
              "<catboost.core.CatBoostClassifier at 0x7b5d438f1150>"
            ]
          },
          "metadata": {},
          "execution_count": 144
        }
      ],
      "source": [
        "cbc.fit(X_train,y_train)"
      ]
    },
    {
      "cell_type": "code",
      "execution_count": 145,
      "metadata": {
        "id": "1oZ8zciixCMu"
      },
      "outputs": [],
      "source": [
        "y_pred = cbc.predict(X_test)"
      ]
    },
    {
      "cell_type": "code",
      "source": [
        "f1_score(y_test,y_pred, average=\"micro\")"
      ],
      "metadata": {
        "colab": {
          "base_uri": "https://localhost:8080/"
        },
        "id": "hDT2UdgSEmSb",
        "outputId": "1b5eae25-6e5d-4fe3-a2b0-92fe4e8e7a55"
      },
      "execution_count": 147,
      "outputs": [
        {
          "output_type": "execute_result",
          "data": {
            "text/plain": [
              "0.9702777777777778"
            ]
          },
          "metadata": {},
          "execution_count": 147
        }
      ]
    },
    {
      "cell_type": "code",
      "source": [
        "print(classification_report(y_test,y_pred ))"
      ],
      "metadata": {
        "colab": {
          "base_uri": "https://localhost:8080/"
        },
        "id": "Y2D49i-LEf9X",
        "outputId": "7327e5f6-9ba2-4302-b366-2adc125ab7b5"
      },
      "execution_count": 146,
      "outputs": [
        {
          "output_type": "stream",
          "name": "stdout",
          "text": [
            "              precision    recall  f1-score   support\n",
            "\n",
            "           0       0.98      0.95      0.96       600\n",
            "           1       0.99      0.99      0.99       600\n",
            "           2       0.96      0.95      0.96       600\n",
            "           3       0.96      0.96      0.96       600\n",
            "           4       0.95      0.97      0.96       600\n",
            "           5       0.98      0.98      0.98       600\n",
            "\n",
            "    accuracy                           0.97      3600\n",
            "   macro avg       0.97      0.97      0.97      3600\n",
            "weighted avg       0.97      0.97      0.97      3600\n",
            "\n"
          ]
        }
      ]
    },
    {
      "cell_type": "code",
      "source": [],
      "metadata": {
        "id": "Fj1Jl8yDEjem"
      },
      "execution_count": null,
      "outputs": []
    }
  ],
  "metadata": {
    "colab": {
      "provenance": []
    },
    "kernelspec": {
      "display_name": "Python 3",
      "name": "python3"
    },
    "language_info": {
      "name": "python"
    }
  },
  "nbformat": 4,
  "nbformat_minor": 0
}