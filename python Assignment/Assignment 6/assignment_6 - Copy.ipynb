{
 "cells": [
  {
   "cell_type": "code",
   "execution_count": 5,
   "id": "e3b3e240",
   "metadata": {},
   "outputs": [
    {
     "name": "stdout",
     "output_type": "stream",
     "text": [
      "zip\n",
      "bon\n"
     ]
    }
   ],
   "source": [
    "str1 = \"RakeshzipPetabb\"\n",
    "str2 = \"JazzbonAyxx\"\n",
    "s1=str1[6:9]\n",
    "print(s1)\n",
    "s2=str2[4:7]\n",
    "print(s2)"
   ]
  },
  {
   "cell_type": "code",
   "execution_count": 7,
   "id": "c2251198",
   "metadata": {},
   "outputs": [
    {
     "name": "stdout",
     "output_type": "stream",
     "text": [
      "AuKellylt\n"
     ]
    }
   ],
   "source": [
    "s1 = \"Ault\"\n",
    "s2 = \"Kelly\"\n",
    "s3=s1[0:2]\n",
    "s4=s1[2:4]\n",
    "s5=s3+s2+s4\n",
    "print(s5)"
   ]
  },
  {
   "cell_type": "code",
   "execution_count": 8,
   "id": "a1ec8e27",
   "metadata": {},
   "outputs": [
    {
     "name": "stdout",
     "output_type": "stream",
     "text": [
      "AJrpan\n"
     ]
    }
   ],
   "source": [
    "s1 = \"America\"\n",
    "s2 = \"Japan\"\n",
    "#Expected Output:\n",
    "#AJrpan\n",
    "\n",
    "s3=s1[0]+s2[0]+s1[3]+s2[2]+s1[-1]+s2[-1]\n",
    "print(s3)"
   ]
  },
  {
   "cell_type": "code",
   "execution_count": null,
   "id": "3978ce32",
   "metadata": {},
   "outputs": [],
   "source": [
    "s=\"LKJNLbhKJnbHKbm\"\n",
    "s.sort()\n",
    "for g in s:\n",
    "    print(s)"
   ]
  },
  {
   "cell_type": "code",
   "execution_count": null,
   "id": "67d57710",
   "metadata": {},
   "outputs": [],
   "source": [
    "s1=\"Abc\"\n",
    "s2=\"Xyz\"\n",
    "s3=s2[::-1]\n",
    "for i in s1:\n",
    "    for j in s3:\n",
    "        print(i,j,sep=\"\",end=\"\")"
   ]
  },
  {
   "cell_type": "code",
   "execution_count": null,
   "id": "896175a0",
   "metadata": {},
   "outputs": [],
   "source": [
    "s1=\"AvivEKPawAR\"\n",
    "i=sorted(s1)\n",
    "j=i[::-1]\n",
    "\n",
    "print(j)\n"
   ]
  },
  {
   "cell_type": "code",
   "execution_count": null,
   "id": "deedcb48",
   "metadata": {},
   "outputs": [],
   "source": [
    "S1=\"Fg h ^f # 8 9\"\n",
    "J=\" \"\n",
    "I=S1.count(J)\n",
    "print(I)"
   ]
  }
 ],
 "metadata": {
  "kernelspec": {
   "display_name": "Python 3 (ipykernel)",
   "language": "python",
   "name": "python3"
  },
  "language_info": {
   "codemirror_mode": {
    "name": "ipython",
    "version": 3
   },
   "file_extension": ".py",
   "mimetype": "text/x-python",
   "name": "python",
   "nbconvert_exporter": "python",
   "pygments_lexer": "ipython3",
   "version": "3.11.4"
  }
 },
 "nbformat": 4,
 "nbformat_minor": 5
}
