{
 "cells": [
  {
   "cell_type": "code",
   "execution_count": 2,
   "id": "07b0dd27",
   "metadata": {},
   "outputs": [
    {
     "ename": "SyntaxError",
     "evalue": "invalid syntax (1634842053.py, line 5)",
     "output_type": "error",
     "traceback": [
      "\u001b[1;36m  Cell \u001b[1;32mIn[2], line 5\u001b[1;36m\u001b[0m\n\u001b[1;33m    type(print) -> remember print is function\u001b[0m\n\u001b[1;37m                ^\u001b[0m\n\u001b[1;31mSyntaxError\u001b[0m\u001b[1;31m:\u001b[0m invalid syntax\n"
     ]
    }
   ],
   "source": [
    "#What will be output of following\n",
    "type(0)\n",
    "type(0.0)\n",
    "type('A')\n",
    "type(print) -> remember print is function\n",
    "type(3+3j)\n",
    "type(True)"
   ]
  },
  {
   "cell_type": "code",
   "execution_count": 3,
   "id": "f437072a",
   "metadata": {},
   "outputs": [
    {
     "data": {
      "text/plain": [
       "int"
      ]
     },
     "execution_count": 3,
     "metadata": {},
     "output_type": "execute_result"
    }
   ],
   "source": [
    "type(0)\n"
   ]
  },
  {
   "cell_type": "code",
   "execution_count": 4,
   "id": "21fb31ae",
   "metadata": {},
   "outputs": [
    {
     "data": {
      "text/plain": [
       "float"
      ]
     },
     "execution_count": 4,
     "metadata": {},
     "output_type": "execute_result"
    }
   ],
   "source": [
    "type(0.0)"
   ]
  },
  {
   "cell_type": "code",
   "execution_count": 5,
   "id": "f96e841e",
   "metadata": {},
   "outputs": [
    {
     "data": {
      "text/plain": [
       "str"
      ]
     },
     "execution_count": 5,
     "metadata": {},
     "output_type": "execute_result"
    }
   ],
   "source": [
    "type('A')"
   ]
  },
  {
   "cell_type": "code",
   "execution_count": 6,
   "id": "d92673b5",
   "metadata": {},
   "outputs": [
    {
     "data": {
      "text/plain": [
       "builtin_function_or_method"
      ]
     },
     "execution_count": 6,
     "metadata": {},
     "output_type": "execute_result"
    }
   ],
   "source": [
    "type(print)"
   ]
  },
  {
   "cell_type": "code",
   "execution_count": 7,
   "id": "ddb85f9d",
   "metadata": {},
   "outputs": [
    {
     "data": {
      "text/plain": [
       "complex"
      ]
     },
     "execution_count": 7,
     "metadata": {},
     "output_type": "execute_result"
    }
   ],
   "source": [
    "type(3+3j)"
   ]
  },
  {
   "cell_type": "code",
   "execution_count": 8,
   "id": "9f3bdc21",
   "metadata": {},
   "outputs": [
    {
     "ename": "NameError",
     "evalue": "name 'true' is not defined",
     "output_type": "error",
     "traceback": [
      "\u001b[1;31m---------------------------------------------------------------------------\u001b[0m",
      "\u001b[1;31mNameError\u001b[0m                                 Traceback (most recent call last)",
      "Cell \u001b[1;32mIn[8], line 1\u001b[0m\n\u001b[1;32m----> 1\u001b[0m \u001b[38;5;28mtype\u001b[39m(true)\n",
      "\u001b[1;31mNameError\u001b[0m: name 'true' is not defined"
     ]
    }
   ],
   "source": [
    "type(true)"
   ]
  },
  {
   "cell_type": "code",
   "execution_count": 9,
   "id": "f5a70a3f",
   "metadata": {},
   "outputs": [
    {
     "data": {
      "text/plain": [
       "bool"
      ]
     },
     "execution_count": 9,
     "metadata": {},
     "output_type": "execute_result"
    }
   ],
   "source": [
    "type(True)"
   ]
  },
  {
   "cell_type": "code",
   "execution_count": 11,
   "id": "c40a61bf",
   "metadata": {},
   "outputs": [
    {
     "data": {
      "text/plain": [
       "str"
      ]
     },
     "execution_count": 11,
     "metadata": {},
     "output_type": "execute_result"
    }
   ],
   "source": [
    "type('/')"
   ]
  },
  {
   "cell_type": "code",
   "execution_count": 12,
   "id": "70d2617c",
   "metadata": {},
   "outputs": [
    {
     "data": {
      "text/plain": [
       "str"
      ]
     },
     "execution_count": 12,
     "metadata": {},
     "output_type": "execute_result"
    }
   ],
   "source": [
    "type('')"
   ]
  },
  {
   "cell_type": "markdown",
   "id": "7d8244f1",
   "metadata": {},
   "source": [
    "Q2"
   ]
  },
  {
   "cell_type": "code",
   "execution_count": 13,
   "id": "05ed4d69",
   "metadata": {},
   "outputs": [
    {
     "data": {
      "text/plain": [
       "True"
      ]
     },
     "execution_count": 13,
     "metadata": {},
     "output_type": "execute_result"
    }
   ],
   "source": [
    "isinstance(10,int)"
   ]
  },
  {
   "cell_type": "code",
   "execution_count": 15,
   "id": "206e613f",
   "metadata": {},
   "outputs": [
    {
     "data": {
      "text/plain": [
       "False"
      ]
     },
     "execution_count": 15,
     "metadata": {},
     "output_type": "execute_result"
    }
   ],
   "source": [
    "isinstance(10,float)"
   ]
  },
  {
   "cell_type": "code",
   "execution_count": 16,
   "id": "a3677630",
   "metadata": {},
   "outputs": [
    {
     "data": {
      "text/plain": [
       "False"
      ]
     },
     "execution_count": 16,
     "metadata": {},
     "output_type": "execute_result"
    }
   ],
   "source": [
    "isinstance(1,bool)"
   ]
  },
  {
   "cell_type": "code",
   "execution_count": 17,
   "id": "6d569611",
   "metadata": {},
   "outputs": [
    {
     "data": {
      "text/plain": [
       "False"
      ]
     },
     "execution_count": 17,
     "metadata": {},
     "output_type": "execute_result"
    }
   ],
   "source": [
    "isinstance(0,bool)"
   ]
  },
  {
   "cell_type": "code",
   "execution_count": 18,
   "id": "b036011d",
   "metadata": {},
   "outputs": [
    {
     "data": {
      "text/plain": [
       "True"
      ]
     },
     "execution_count": 18,
     "metadata": {},
     "output_type": "execute_result"
    }
   ],
   "source": [
    "isinstance('s',str)"
   ]
  },
  {
   "cell_type": "code",
   "execution_count": 19,
   "id": "cbf3eab5",
   "metadata": {},
   "outputs": [
    {
     "data": {
      "text/plain": [
       "False"
      ]
     },
     "execution_count": 19,
     "metadata": {},
     "output_type": "execute_result"
    }
   ],
   "source": [
    "isinstance(78.8,int)"
   ]
  },
  {
   "cell_type": "code",
   "execution_count": 20,
   "id": "de2d2d51",
   "metadata": {},
   "outputs": [
    {
     "data": {
      "text/plain": [
       "True"
      ]
     },
     "execution_count": 20,
     "metadata": {},
     "output_type": "execute_result"
    }
   ],
   "source": [
    "isinstance(78.8,float)"
   ]
  },
  {
   "cell_type": "code",
   "execution_count": 21,
   "id": "07cfd366",
   "metadata": {},
   "outputs": [
    {
     "data": {
      "text/plain": [
       "False"
      ]
     },
     "execution_count": 21,
     "metadata": {},
     "output_type": "execute_result"
    }
   ],
   "source": [
    "isinstance(78.8,complex)"
   ]
  },
  {
   "cell_type": "code",
   "execution_count": 22,
   "id": "9f86fa01",
   "metadata": {},
   "outputs": [
    {
     "data": {
      "text/plain": [
       "True"
      ]
     },
     "execution_count": 22,
     "metadata": {},
     "output_type": "execute_result"
    }
   ],
   "source": [
    "isinstance(True,bool)"
   ]
  },
  {
   "cell_type": "code",
   "execution_count": 25,
   "id": "e03ed873",
   "metadata": {},
   "outputs": [
    {
     "data": {
      "text/plain": [
       "False"
      ]
     },
     "execution_count": 25,
     "metadata": {},
     "output_type": "execute_result"
    }
   ],
   "source": [
    "isinstance('yes',bool)"
   ]
  },
  {
   "cell_type": "code",
   "execution_count": 30,
   "id": "8381d65a",
   "metadata": {},
   "outputs": [
    {
     "name": "stdout",
     "output_type": "stream",
     "text": [
      "Enter the roll no.=25\n",
      "Enter the percentage marks = 75.28\n",
      "Enter the nameomkar\n",
      "enter the complex num = 2+5j\n",
      "25\n",
      "75.28\n",
      "omkar\n",
      "(2+5j)\n"
     ]
    }
   ],
   "source": [
    "roll_no= int(input(\"Enter the roll no.=\"))\n",
    "percentage_marks=float(input(\"Enter the percentage marks = \"))\n",
    "name = str(input(\"Enter the name\"))\n",
    "complex_num=complex(input(\"enter the complex num = \"))\n",
    "print(roll_no)\n",
    "print(percentage_marks)\n",
    "print(name)\n",
    "print(complex_num)"
   ]
  },
  {
   "cell_type": "code",
   "execution_count": 31,
   "id": "ce43f07d",
   "metadata": {},
   "outputs": [
    {
     "name": "stdout",
     "output_type": "stream",
     "text": [
      "enter the integer10\n",
      "0b1010 0xa 0o12\n"
     ]
    }
   ],
   "source": [
    "num=int(input(\"enter the integer\"))\n",
    "print(bin(num),hex(num),oct(num))"
   ]
  },
  {
   "cell_type": "code",
   "execution_count": 3,
   "id": "22e1d0ef",
   "metadata": {},
   "outputs": [
    {
     "name": "stdout",
     "output_type": "stream",
     "text": [
      "enter the binary101\n",
      "5\n"
     ]
    }
   ],
   "source": [
    "num=(input(\"enter the binary\"))\n",
    "print(int(num,2))"
   ]
  },
  {
   "cell_type": "code",
   "execution_count": 1,
   "id": "0bab03c8",
   "metadata": {},
   "outputs": [
    {
     "name": "stdout",
     "output_type": "stream",
     "text": [
      "enter the octal0o67\n"
     ]
    },
    {
     "data": {
      "text/plain": [
       "55"
      ]
     },
     "execution_count": 1,
     "metadata": {},
     "output_type": "execute_result"
    }
   ],
   "source": [
    "num=input(\"enter the octal\")\n",
    "int(num,8)"
   ]
  },
  {
   "cell_type": "code",
   "execution_count": 4,
   "id": "b3adf014",
   "metadata": {},
   "outputs": [
    {
     "name": "stdout",
     "output_type": "stream",
     "text": [
      "enter the octal string0o1256\n"
     ]
    },
    {
     "data": {
      "text/plain": [
       "686"
      ]
     },
     "execution_count": 4,
     "metadata": {},
     "output_type": "execute_result"
    }
   ],
   "source": [
    "num=input(\"enter the octal string to integer\")\n",
    "int(num,8)"
   ]
  },
  {
   "cell_type": "code",
   "execution_count": 8,
   "id": "17e8493d",
   "metadata": {},
   "outputs": [
    {
     "name": "stdout",
     "output_type": "stream",
     "text": [
      "enter the hex string0xb\n"
     ]
    },
    {
     "data": {
      "text/plain": [
       "11"
      ]
     },
     "execution_count": 8,
     "metadata": {},
     "output_type": "execute_result"
    }
   ],
   "source": [
    "num=input(\"enter the hex string\")\n",
    "int(num,16)"
   ]
  },
  {
   "cell_type": "code",
   "execution_count": 9,
   "id": "63dbeb93",
   "metadata": {},
   "outputs": [
    {
     "name": "stdout",
     "output_type": "stream",
     "text": [
      "enter the integer25\n",
      "0b11001\n"
     ]
    }
   ],
   "source": [
    "num=int(input(\"enter the integer\"))\n",
    "print(bin(num))"
   ]
  },
  {
   "cell_type": "code",
   "execution_count": 3,
   "id": "f8b230dc",
   "metadata": {},
   "outputs": [
    {
     "name": "stdout",
     "output_type": "stream",
     "text": [
      " 1. integer to binarty\n",
      " 2.integer to ocatal\n",
      " 3.integer to hex \n",
      "enter the choice1\n",
      "Enter the num4\n",
      "0b100\n"
     ]
    }
   ],
   "source": [
    "print(\" 1. integer to binarty\")\n",
    "print(\" 2.integer to ocatal\")\n",
    "print(\" 3.integer to hex \")\n",
    "a=int(input(\"enter the choice\"))\n",
    "b=int(input(\"Enter the num\"))\n",
    "if(a==1):\n",
    "    print(bin(b))\n",
    "elif(a==2):\n",
    "    print(oct(b))\n",
    "elif(a==3):\n",
    "    print(hex(b))\n",
    "else:\n",
    "    print(\"invalid\")"
   ]
  },
  {
   "cell_type": "code",
   "execution_count": null,
   "id": "f291b2f8",
   "metadata": {},
   "outputs": [],
   "source": []
  },
  {
   "cell_type": "code",
   "execution_count": null,
   "id": "7ef64bbe",
   "metadata": {},
   "outputs": [],
   "source": []
  }
 ],
 "metadata": {
  "kernelspec": {
   "display_name": "Python 3 (ipykernel)",
   "language": "python",
   "name": "python3"
  },
  "language_info": {
   "codemirror_mode": {
    "name": "ipython",
    "version": 3
   },
   "file_extension": ".py",
   "mimetype": "text/x-python",
   "name": "python",
   "nbconvert_exporter": "python",
   "pygments_lexer": "ipython3",
   "version": "3.11.4"
  }
 },
 "nbformat": 4,
 "nbformat_minor": 5
}
