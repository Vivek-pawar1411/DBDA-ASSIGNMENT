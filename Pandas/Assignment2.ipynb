{
  "nbformat": 4,
  "nbformat_minor": 0,
  "metadata": {
    "colab": {
      "provenance": []
    },
    "kernelspec": {
      "name": "python3",
      "display_name": "Python 3"
    },
    "language_info": {
      "name": "python"
    }
  },
  "cells": [
    {
      "cell_type": "code",
      "source": [
        "import numpy as np\n",
        "\n",
        "prob = [0.1, 0.51, 0.9, 0.7]\n",
        "threshold = 0.5\n",
        "\n",
        "predicted_labels = (np.array(prob) > threshold).astype(int).tolist()\n",
        "print(predicted_labels)  # Output: [0, 1, 1, 1]\n",
        "\n",
        "threshold = 0.6\n",
        "predicted_labels = (np.array(prob) > threshold).astype(int).tolist()\n",
        "print(predicted_labels)"
      ],
      "metadata": {
        "colab": {
          "base_uri": "https://localhost:8080/"
        },
        "id": "DcnZqW-GWW7A",
        "outputId": "fae3a59e-9937-448a-911f-857990c74b1c"
      },
      "execution_count": 5,
      "outputs": [
        {
          "output_type": "stream",
          "name": "stdout",
          "text": [
            "[0, 1, 1, 1]\n",
            "[0, 0, 1, 1]\n"
          ]
        }
      ]
    },
    {
      "cell_type": "code",
      "source": [
        "import numpy as np\n",
        "from sklearn.metrics import mean_squared_error\n",
        "\n",
        "def calculate_errors(y, y_pred):\n",
        "    mae = np.mean(np.abs(y - y_pred))\n",
        "    rmse = np.sqrt(mean_squared_error(y, y_pred))\n",
        "    return mae, rmse\n",
        "\n",
        "# Example usage\n",
        "Y = [10, 45, 34]\n",
        "Y_pred = [12, 40, 31]\n",
        "mae, rmse = calculate_errors(Y, Y_pred)\n",
        "print(\"Mean Absolute Error:\", mae)\n",
        "print(\"Root Mean Squared Error:\", rmse)"
      ],
      "metadata": {
        "id": "eDg-UmPpYJUK"
      },
      "execution_count": null,
      "outputs": []
    },
    {
      "cell_type": "code",
      "source": [],
      "metadata": {
        "id": "jsKxnX0OX_K1"
      },
      "execution_count": null,
      "outputs": []
    }
  ]
}