{
  "nbformat": 4,
  "nbformat_minor": 0,
  "metadata": {
    "colab": {
      "provenance": []
    },
    "kernelspec": {
      "name": "python3",
      "display_name": "Python 3"
    },
    "language_info": {
      "name": "python"
    }
  },
  "cells": [
    {
      "cell_type": "code",
      "execution_count": 3,
      "metadata": {
        "id": "5Qkn8nnRQXxP"
      },
      "outputs": [],
      "source": [
        "import pandas as pd"
      ]
    },
    {
      "cell_type": "markdown",
      "source": [
        "Write a function. Given list of strings, find unique values and return them"
      ],
      "metadata": {
        "id": "YUG8wsGdRuRv"
      }
    },
    {
      "cell_type": "code",
      "source": [
        "str1=['amit','tejas','vivek','omkar','goldy','omkar','purven','tejas','amit']\n",
        "unique=pd.Series(str1).unique()\n",
        "unique"
      ],
      "metadata": {
        "colab": {
          "base_uri": "https://localhost:8080/"
        },
        "id": "d_ZRkXqiQ1mH",
        "outputId": "41bf9532-cb53-4f30-8acc-0b7a00a8b77e"
      },
      "execution_count": 5,
      "outputs": [
        {
          "output_type": "execute_result",
          "data": {
            "text/plain": [
              "array(['amit', 'tejas', 'vivek', 'omkar', 'goldy', 'purven'], dtype=object)"
            ]
          },
          "metadata": {},
          "execution_count": 5
        }
      ]
    },
    {
      "cell_type": "markdown",
      "source": [
        "Write a function. Given list of numbers\n",
        "find mean, median and mode"
      ],
      "metadata": {
        "id": "mzamh7TpSEI3"
      }
    },
    {
      "cell_type": "code",
      "source": [
        "list1=[1,2,3,4,5,6,7,8,6,9,7,9,6,8,7,4,3,0]\n",
        "l1=pd.Series(list1)\n",
        "l1\n",
        "print(\"mean\",l1.mean())\n",
        "print(\"median\",l1.median())\n",
        "print(\"mode\",l1.mode()[0])"
      ],
      "metadata": {
        "colab": {
          "base_uri": "https://localhost:8080/"
        },
        "id": "38lHq-AlRj7l",
        "outputId": "f848e5bf-01af-4cce-cb31-35070b5410ec"
      },
      "execution_count": 12,
      "outputs": [
        {
          "output_type": "stream",
          "name": "stdout",
          "text": [
            "mean 5.277777777777778\n",
            "median 6.0\n",
            "mode 6\n"
          ]
        }
      ]
    },
    {
      "cell_type": "code",
      "source": [],
      "metadata": {
        "id": "1QfRzAtGSYq_"
      },
      "execution_count": null,
      "outputs": []
    }
  ]
}