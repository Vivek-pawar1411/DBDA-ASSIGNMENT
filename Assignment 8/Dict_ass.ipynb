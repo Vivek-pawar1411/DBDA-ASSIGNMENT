{
 "cells": [
  {
   "cell_type": "code",
   "execution_count": 2,
   "id": "ccf1e0a3",
   "metadata": {},
   "outputs": [
    {
     "data": {
      "text/plain": [
       "' CaesarcipherImuchpreferCaesarsalad'"
      ]
     },
     "execution_count": 2,
     "metadata": {},
     "output_type": "execute_result"
    }
   ],
   "source": [
    "text = {'a':'n', 'b':'o', 'c':'p', 'd':'q', 'e':'r', 'f':'s', 'g':'t',\n",
    "        'h':'u', 'i':'v', 'j':'w', 'k':'x', 'l':'y', 'm':'z', 'n':'a',\n",
    "        'o':'b', 'p':'c','q':'d', 'r':'e', 's':'f', 't':'g', 'u':'h',\n",
    "        'v':'i', 'w':'j', 'x':'k', 'y':'l', 'z':'m', 'A':'N', 'B':'O',\n",
    "        'C':'P', 'D':'Q', 'E':'R', 'F':'S', 'G':'T', 'H':'U', 'I':'V',\n",
    "        'J':'W', 'K':'X', 'L':'Y', 'M':'Z', 'N':'A', 'O':'B', 'P':'C', \n",
    "        'Q':'D', 'R':'E', 'S':'F', 'T':'G', 'U':'H', 'V':'I', 'W':'J',\n",
    "        'X':'K', 'Y':'L', 'Z':'M'}\n",
    "\n",
    "s=\"PnrfnepvcureVzhpucersrePnrfnefnynq\"\n",
    "new_m=\" \"\n",
    "for ch in s:\n",
    "    new_c=text[ch]\n",
    "    new_m=new_m + new_c\n",
    "new_m\n"
   ]
  },
  {
   "cell_type": "markdown",
   "id": "ca3224e0",
   "metadata": {},
   "source": [
    "2. Given a dictionary of students and their favourite colours:\n",
    "people={'Arham':'Blue','Lisa':'Yellow',''Vinod:'Purple','Jenny':'Pink'}\n",
    "a. Find out how many students are in the list\n",
    "b. Change Lisa’s favourite colour\n",
    "c. Remove 'Jenny' and her favourite colour"
   ]
  },
  {
   "cell_type": "code",
   "execution_count": 42,
   "id": "a3641ccd",
   "metadata": {},
   "outputs": [],
   "source": [
    "people={'Arham':'Blue','Lisa':'Yellow','Vinod':'Purple','Jenny':'Pink'}\n",
    "    "
   ]
  },
  {
   "cell_type": "code",
   "execution_count": 43,
   "id": "400f3de8",
   "metadata": {},
   "outputs": [
    {
     "name": "stdout",
     "output_type": "stream",
     "text": [
      "4\n"
     ]
    }
   ],
   "source": [
    "count=0\n",
    "for i in people:\n",
    "    count+=1\n",
    "print(count)\n",
    "    \n",
    "# print(len(people))    "
   ]
  },
  {
   "cell_type": "code",
   "execution_count": 44,
   "id": "af5b0ff7",
   "metadata": {},
   "outputs": [],
   "source": [
    "people['Lisa']='black'"
   ]
  },
  {
   "cell_type": "code",
   "execution_count": 45,
   "id": "dda05830",
   "metadata": {},
   "outputs": [
    {
     "data": {
      "text/plain": [
       "{'Arham': 'Blue', 'Lisa': 'black', 'Vinod': 'Purple', 'Jenny': 'Pink'}"
      ]
     },
     "execution_count": 45,
     "metadata": {},
     "output_type": "execute_result"
    }
   ],
   "source": [
    "people"
   ]
  },
  {
   "cell_type": "code",
   "execution_count": 46,
   "id": "42c8b19d",
   "metadata": {},
   "outputs": [
    {
     "data": {
      "text/plain": [
       "'Pink'"
      ]
     },
     "execution_count": 46,
     "metadata": {},
     "output_type": "execute_result"
    }
   ],
   "source": [
    "people.pop('Jenny')\n"
   ]
  },
  {
   "cell_type": "code",
   "execution_count": 47,
   "id": "b890faa2",
   "metadata": {},
   "outputs": [
    {
     "data": {
      "text/plain": [
       "{'Arham': 'Blue', 'Lisa': 'black', 'Vinod': 'Purple'}"
      ]
     },
     "execution_count": 47,
     "metadata": {},
     "output_type": "execute_result"
    }
   ],
   "source": [
    "people"
   ]
  },
  {
   "cell_type": "code",
   "execution_count": 49,
   "id": "2bdc527d",
   "metadata": {},
   "outputs": [],
   "source": [
    "del people['Vinod']"
   ]
  },
  {
   "cell_type": "code",
   "execution_count": 50,
   "id": "8069cf02",
   "metadata": {},
   "outputs": [
    {
     "data": {
      "text/plain": [
       "{'Arham': 'Blue', 'Lisa': 'black'}"
      ]
     },
     "execution_count": 50,
     "metadata": {},
     "output_type": "execute_result"
    }
   ],
   "source": [
    "people"
   ]
  },
  {
   "cell_type": "code",
   "execution_count": null,
   "id": "02df9bf5",
   "metadata": {},
   "outputs": [],
   "source": []
  },
  {
   "cell_type": "markdown",
   "id": "f7f17973",
   "metadata": {},
   "source": [
    "4. Sort and print students and their favourite colours alphabetically by name"
   ]
  },
  {
   "cell_type": "code",
   "execution_count": 51,
   "id": "221fe915",
   "metadata": {},
   "outputs": [],
   "source": [
    "people={'Arham':'Blue','Lisa':'Yellow','Vinod':'Purple','Jenny':'Pink'}"
   ]
  },
  {
   "cell_type": "code",
   "execution_count": 57,
   "id": "4986a5ca",
   "metadata": {},
   "outputs": [
    {
     "name": "stdout",
     "output_type": "stream",
     "text": [
      "['Arham', 'Jenny', 'Lisa', 'Vinod']\n",
      "{'Arham': 'Blue', 'Jenny': 'Pink', 'Lisa': 'Yellow', 'Vinod': 'Purple'}\n"
     ]
    }
   ],
   "source": [
    "name=list(people)\n",
    "# name=name.sort()\n",
    "name=sorted(name)\n",
    "print(name)\n",
    "sorted_people={}\n",
    "for i in name:\n",
    "    sorted_people[i]=people[i]\n",
    "print(sorted_people)    "
   ]
  },
  {
   "cell_type": "code",
   "execution_count": 53,
   "id": "da39e1bf",
   "metadata": {},
   "outputs": [
    {
     "data": {
      "text/plain": [
       "['Arham', 'Jenny', 'Lisa', 'Vinod']"
      ]
     },
     "execution_count": 53,
     "metadata": {},
     "output_type": "execute_result"
    }
   ],
   "source": [
    "name"
   ]
  },
  {
   "cell_type": "code",
   "execution_count": 58,
   "id": "e9b1ef77",
   "metadata": {},
   "outputs": [
    {
     "name": "stdout",
     "output_type": "stream",
     "text": [
      "None\n",
      "['Arham', 'Jenny', 'Lisa', 'Vinod']\n"
     ]
    }
   ],
   "source": [
    "name=list(people)\n",
    "name1=name.sort()\n",
    "print(name1)\n",
    "name2=sorted(name)\n",
    "print(name2)"
   ]
  },
  {
   "cell_type": "code",
   "execution_count": 59,
   "id": "e26f0355",
   "metadata": {},
   "outputs": [],
   "source": [
    "name.sort()"
   ]
  },
  {
   "cell_type": "code",
   "execution_count": 60,
   "id": "a4bc536e",
   "metadata": {},
   "outputs": [
    {
     "data": {
      "text/plain": [
       "['Arham', 'Jenny', 'Lisa', 'Vinod']"
      ]
     },
     "execution_count": 60,
     "metadata": {},
     "output_type": "execute_result"
    }
   ],
   "source": [
    "name"
   ]
  },
  {
   "cell_type": "code",
   "execution_count": 13,
   "id": "2733804d",
   "metadata": {},
   "outputs": [
    {
     "name": "stdout",
     "output_type": "stream",
     "text": [
      "{'CDAC': 1, 'is': 1, 'Pune': 2, 'in': 1}\n"
     ]
    }
   ],
   "source": [
    "input_sent= 'CDAC is in Pune'\n",
    "word_list=input_sent.split(\" \")\n",
    "word_set=set(word_list)\n",
    "word_count={}\n",
    "\n",
    "for i in word_set:\n",
    "    word_count[i]=word_list.count(i)\n",
    "print(word_count)"
   ]
  },
  {
   "cell_type": "code",
   "execution_count": 14,
   "id": "04eba063",
   "metadata": {},
   "outputs": [
    {
     "name": "stdout",
     "output_type": "stream",
     "text": [
      "{'CDAC': 1, 'is': 1, 'Pune': 2, 'in': 1}\n"
     ]
    }
   ],
   "source": [
    "input_sent= 'CDAC is in Pune Pune'\n",
    "word_list=input_sent.split(\" \")\n",
    "word_set=set(word_list)\n",
    "word_count={}\n",
    "\n",
    "for i in word_set:\n",
    "    word_count[i]=word_list.count(i)\n",
    "print(word_count)"
   ]
  },
  {
   "cell_type": "code",
   "execution_count": null,
   "id": "1e3cd0e8",
   "metadata": {},
   "outputs": [],
   "source": []
  }
 ],
 "metadata": {
  "kernelspec": {
   "display_name": "Python 3 (ipykernel)",
   "language": "python",
   "name": "python3"
  },
  "language_info": {
   "codemirror_mode": {
    "name": "ipython",
    "version": 3
   },
   "file_extension": ".py",
   "mimetype": "text/x-python",
   "name": "python",
   "nbconvert_exporter": "python",
   "pygments_lexer": "ipython3",
   "version": "3.9.15"
  }
 },
 "nbformat": 4,
 "nbformat_minor": 5
}
