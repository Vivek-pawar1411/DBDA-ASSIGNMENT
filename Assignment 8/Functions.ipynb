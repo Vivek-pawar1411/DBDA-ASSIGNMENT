{
 "cells": [
  {
   "cell_type": "code",
   "execution_count": 1,
   "id": "27d8afca",
   "metadata": {},
   "outputs": [],
   "source": [
    "def check(n):\n",
    "    if n%2==0:\n",
    "        print(\"true\")\n",
    "    else:\n",
    "        print(\"false\")\n",
    "        \n",
    "        "
   ]
  },
  {
   "cell_type": "code",
   "execution_count": 2,
   "id": "17d32004",
   "metadata": {},
   "outputs": [
    {
     "name": "stdout",
     "output_type": "stream",
     "text": [
      "false\n"
     ]
    }
   ],
   "source": [
    "check(5)"
   ]
  },
  {
   "cell_type": "code",
   "execution_count": 3,
   "id": "2c5c419e",
   "metadata": {},
   "outputs": [
    {
     "name": "stdout",
     "output_type": "stream",
     "text": [
      "false\n"
     ]
    }
   ],
   "source": [
    "check(8.9)"
   ]
  },
  {
   "cell_type": "markdown",
   "id": "50edab00",
   "metadata": {},
   "source": [
    "# Q2"
   ]
  },
  {
   "cell_type": "code",
   "execution_count": 6,
   "id": "1508e777",
   "metadata": {},
   "outputs": [
    {
     "name": "stdout",
     "output_type": "stream",
     "text": [
      "divisiable by 11\n",
      "divisiable by 11\n",
      "not divisiable\n",
      "not divisiable\n",
      "divisiable by 11\n"
     ]
    }
   ],
   "source": [
    "def check(l1):\n",
    "    '''divisiablity by 11'''\n",
    "    for i in l1:\n",
    "        if i%11==0:\n",
    "            print(\"divisiable by 11\")\n",
    "        else:\n",
    "            print(\"not divisiable\")\n",
    "l1=[11,44,45,78,99]\n",
    "check(l1)"
   ]
  },
  {
   "cell_type": "markdown",
   "id": "3d30e162",
   "metadata": {},
   "source": [
    "# Q3"
   ]
  },
  {
   "cell_type": "code",
   "execution_count": 10,
   "id": "82c8c831",
   "metadata": {},
   "outputs": [
    {
     "name": "stdout",
     "output_type": "stream",
     "text": [
      "nevrup\n"
     ]
    }
   ],
   "source": [
    "name=\"purven\"\n",
    "print(name[::-1])"
   ]
  },
  {
   "cell_type": "code",
   "execution_count": 16,
   "id": "766f4389",
   "metadata": {},
   "outputs": [],
   "source": [
    "def pal(n):\n",
    "    if n==name[::-1]:\n",
    "        return 1\n",
    "    else:\n",
    "        return 0\n",
    "\n",
    "        \n",
    "        "
   ]
  },
  {
   "cell_type": "code",
   "execution_count": 17,
   "id": "9b472257",
   "metadata": {},
   "outputs": [
    {
     "data": {
      "text/plain": [
       "1"
      ]
     },
     "execution_count": 17,
     "metadata": {},
     "output_type": "execute_result"
    }
   ],
   "source": [
    "name=\"nayan\"\n",
    "pal(name)"
   ]
  },
  {
   "cell_type": "markdown",
   "id": "b7a05c6c",
   "metadata": {},
   "source": [
    "# Q5"
   ]
  },
  {
   "cell_type": "code",
   "execution_count": 20,
   "id": "1d4de8af",
   "metadata": {},
   "outputs": [
    {
     "name": "stdout",
     "output_type": "stream",
     "text": [
      "uv\n"
     ]
    }
   ],
   "source": [
    "name=\"purven\"\n",
    "print(name[1:5:2])"
   ]
  },
  {
   "cell_type": "code",
   "execution_count": 49,
   "id": "1c7de1c0",
   "metadata": {},
   "outputs": [
    {
     "name": "stdout",
     "output_type": "stream",
     "text": [
      "uv\n"
     ]
    }
   ],
   "source": [
    "def alternate(_str):\n",
    "    print(_str[1:5:2])\n",
    "\n",
    "alternate(\"purven\")\n",
    "    "
   ]
  },
  {
   "cell_type": "markdown",
   "id": "27d46067",
   "metadata": {},
   "source": [
    "# Q6"
   ]
  },
  {
   "cell_type": "code",
   "execution_count": null,
   "id": "b1aab291",
   "metadata": {},
   "outputs": [],
   "source": [
    "#Q WA function to take dictionary as parameter. Print all keys of the dictionary"
   ]
  },
  {
   "cell_type": "markdown",
   "id": "dac7371f",
   "metadata": {},
   "source": [
    "# Q7"
   ]
  },
  {
   "cell_type": "code",
   "execution_count": null,
   "id": "34c0209b",
   "metadata": {},
   "outputs": [],
   "source": [
    "#WA function to take a dictionary as parameter. Print value of key \"name\" if key \"rollno\" is having value 100.\n"
   ]
  },
  {
   "cell_type": "code",
   "execution_count": 12,
   "id": "a7c4de95",
   "metadata": {},
   "outputs": [
    {
     "name": "stdout",
     "output_type": "stream",
     "text": [
      "iacsd\n"
     ]
    }
   ],
   "source": [
    "def check(dict_):\n",
    "    if d[\"rollno\"]==100:\n",
    "        print(d[\"name\"])\n",
    "\n",
    "d={'name':\"iacsd\",'rollno':100}\n",
    "check(d)"
   ]
  },
  {
   "cell_type": "code",
   "execution_count": 2,
   "id": "01d6582d",
   "metadata": {},
   "outputs": [],
   "source": []
  },
  {
   "cell_type": "code",
   "execution_count": null,
   "id": "67068388",
   "metadata": {},
   "outputs": [],
   "source": []
  },
  {
   "cell_type": "markdown",
   "id": "54a464ed",
   "metadata": {},
   "source": [
    "# Q9"
   ]
  },
  {
   "cell_type": "code",
   "execution_count": 87,
   "id": "88c0d96d",
   "metadata": {},
   "outputs": [],
   "source": [
    "def check(list_str):\n",
    "    count=0\n",
    "    for i in list_str:\n",
    "        for j in  i:\n",
    "            if j=='s':\n",
    "                count=count+1\n",
    "                \n",
    "    print(count)\n",
    "                \n",
    "    \n",
    "\n",
    "    "
   ]
  },
  {
   "cell_type": "code",
   "execution_count": 88,
   "id": "12c7a014",
   "metadata": {},
   "outputs": [
    {
     "name": "stdout",
     "output_type": "stream",
     "text": [
      "4\n"
     ]
    }
   ],
   "source": [
    "a=['ersd','dfgtdfy','fysss']\n",
    "check(a)\n"
   ]
  },
  {
   "cell_type": "markdown",
   "id": "51e7b575",
   "metadata": {},
   "source": [
    "# Q10\n",
    "#WA function to take list of dictionaries. Print all dictionaries which contain key \"id\".\n"
   ]
  },
  {
   "cell_type": "code",
   "execution_count": 68,
   "id": "e1bac0d3",
   "metadata": {},
   "outputs": [
    {
     "name": "stdout",
     "output_type": "stream",
     "text": [
      "iacsd\n"
     ]
    }
   ],
   "source": [
    "def check(dict_):\n",
    "    for i in d[0]:\n",
    "        if i=='id':\n",
    "            print(d[0]['id'])\n",
    "    \n",
    "\n",
    "d=[{\"id\":\"iacsd\",'name':\"iacsd\",'rollno':100}]\n",
    "check(d)"
   ]
  },
  {
   "cell_type": "code",
   "execution_count": 65,
   "id": "eeab4c18",
   "metadata": {},
   "outputs": [
    {
     "data": {
      "text/plain": [
       "{'id': 'iacsd', 'name': 'iacsd', 'rollno': 100}"
      ]
     },
     "execution_count": 65,
     "metadata": {},
     "output_type": "execute_result"
    }
   ],
   "source": [
    "d=[{\"id\":\"iacsd\",'name':\"iacsd\",'rollno':100}]\n",
    "d[0]"
   ]
  },
  {
   "cell_type": "code",
   "execution_count": 29,
   "id": "25cd84a2",
   "metadata": {},
   "outputs": [
    {
     "data": {
      "text/plain": [
       "'iacsd'"
      ]
     },
     "execution_count": 29,
     "metadata": {},
     "output_type": "execute_result"
    }
   ],
   "source": [
    "d[0]['id']"
   ]
  },
  {
   "cell_type": "code",
   "execution_count": null,
   "id": "977ce461",
   "metadata": {},
   "outputs": [],
   "source": []
  },
  {
   "cell_type": "code",
   "execution_count": 30,
   "id": "e008a6b1",
   "metadata": {},
   "outputs": [
    {
     "name": "stdout",
     "output_type": "stream",
     "text": [
      "the key : uu\n",
      "the key : jj\n",
      "the key : kk\n"
     ]
    }
   ],
   "source": [
    "def check(dictionary):\n",
    "    for i in dictionary:\n",
    "        print(\"the key :\",i)\n",
    "\n",
    "dict_={'uu':'purven','jj':\"tejya\",'kk':\"viraj\"}\n",
    "check(dict_)\n",
    "    "
   ]
  },
  {
   "cell_type": "code",
   "execution_count": 32,
   "id": "7f3cad1e",
   "metadata": {},
   "outputs": [
    {
     "name": "stdout",
     "output_type": "stream",
     "text": [
      "iacsd\n"
     ]
    }
   ],
   "source": [
    "d=[{\"id\":\"iacsd\",'name':\"iacsd\",'rollno':100}]\n",
    "for i in d[0]:\n",
    "    if i=='id':\n",
    "        print(d[0]['id'])"
   ]
  },
  {
   "cell_type": "code",
   "execution_count": 61,
   "id": "7a5a4f19",
   "metadata": {},
   "outputs": [],
   "source": [
    "d=[{\"id\":\"iacsd\",'name':\"iacsd\",'rollno':100},{'id':'sjgh','h':'kud','g':'iudfg'}]"
   ]
  },
  {
   "cell_type": "code",
   "execution_count": 34,
   "id": "46af1bad",
   "metadata": {},
   "outputs": [
    {
     "data": {
      "text/plain": [
       "{'id': 'iacsd', 'name': 'iacsd', 'rollno': 100}"
      ]
     },
     "execution_count": 34,
     "metadata": {},
     "output_type": "execute_result"
    }
   ],
   "source": [
    "d[0]"
   ]
  },
  {
   "cell_type": "code",
   "execution_count": 35,
   "id": "280177c7",
   "metadata": {},
   "outputs": [
    {
     "data": {
      "text/plain": [
       "{'t': 'sjgh', 'h': 'kud', 'g': 'iudfg'}"
      ]
     },
     "execution_count": 35,
     "metadata": {},
     "output_type": "execute_result"
    }
   ],
   "source": [
    "d[1]"
   ]
  },
  {
   "cell_type": "code",
   "execution_count": 51,
   "id": "62e8255a",
   "metadata": {},
   "outputs": [
    {
     "ename": "SyntaxError",
     "evalue": "invalid syntax (2611833967.py, line 1)",
     "output_type": "error",
     "traceback": [
      "\u001b[1;36m  Cell \u001b[1;32mIn[51], line 1\u001b[1;36m\u001b[0m\n\u001b[1;33m    for i range(d):\u001b[0m\n\u001b[1;37m          ^\u001b[0m\n\u001b[1;31mSyntaxError\u001b[0m\u001b[1;31m:\u001b[0m invalid syntax\n"
     ]
    }
   ],
   "source": [
    "for i range(d):\n",
    "        print(i)"
   ]
  },
  {
   "cell_type": "code",
   "execution_count": 50,
   "id": "b7304e54",
   "metadata": {},
   "outputs": [
    {
     "data": {
      "text/plain": [
       "2"
      ]
     },
     "execution_count": 50,
     "metadata": {},
     "output_type": "execute_result"
    }
   ],
   "source": [
    "len(d)"
   ]
  },
  {
   "cell_type": "code",
   "execution_count": 62,
   "id": "43cfd746",
   "metadata": {},
   "outputs": [
    {
     "name": "stdout",
     "output_type": "stream",
     "text": [
      "iacsd\n",
      "sjgh\n"
     ]
    }
   ],
   "source": [
    "for i in range(len(d)):\n",
    "    print(d[i]['id'])"
   ]
  },
  {
   "cell_type": "code",
   "execution_count": null,
   "id": "b8686f26",
   "metadata": {},
   "outputs": [],
   "source": []
  }
 ],
 "metadata": {
  "kernelspec": {
   "display_name": "Python 3 (ipykernel)",
   "language": "python",
   "name": "python3"
  },
  "language_info": {
   "codemirror_mode": {
    "name": "ipython",
    "version": 3
   },
   "file_extension": ".py",
   "mimetype": "text/x-python",
   "name": "python",
   "nbconvert_exporter": "python",
   "pygments_lexer": "ipython3",
   "version": "3.11.4"
  }
 },
 "nbformat": 4,
 "nbformat_minor": 5
}
